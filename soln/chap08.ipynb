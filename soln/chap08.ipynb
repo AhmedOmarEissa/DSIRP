{
 "cells": [
  {
   "cell_type": "markdown",
   "id": "organic-discharge",
   "metadata": {},
   "source": [
    "# Chapter xx"
   ]
  },
  {
   "cell_type": "markdown",
   "id": "becoming-egyptian",
   "metadata": {
    "tags": [
     "remove-cell"
    ]
   },
   "source": [
    "*Data Structures and Information Retrieval in Python*\n",
    "\n",
    "Copyright 2021 Allen Downey\n",
    "\n",
    "License: [Creative Commons Attribution-NonCommercial-ShareAlike 4.0 International](https://creativecommons.org/licenses/by-nc-sa/4.0/)"
   ]
  },
  {
   "cell_type": "code",
   "execution_count": 1,
   "id": "intelligent-webmaster",
   "metadata": {
    "tags": [
     "remove-cell"
    ]
   },
   "outputs": [],
   "source": [
    "from os.path import basename, exists\n",
    "\n",
    "def download(url):\n",
    "    filename = basename(url)\n",
    "    if not exists(filename):\n",
    "        from urllib.request import urlretrieve\n",
    "        local, _ = urlretrieve(url, filename)\n",
    "        print('Downloaded ' + local)\n",
    "    \n",
    "# download('https://github.com/AllenDowney/DSIRP/raw/main/utils.py')"
   ]
  },
  {
   "cell_type": "markdown",
   "id": "original-progress",
   "metadata": {},
   "source": [
    "[Click here to run this chapter on Colab](https://colab.research.google.com/github/AllenDowney/DSIRP/blob/main/chapters/chap01.ipynb)"
   ]
  },
  {
   "cell_type": "code",
   "execution_count": null,
   "id": "digital-convergence",
   "metadata": {},
   "outputs": [],
   "source": []
  },
  {
   "cell_type": "markdown",
   "id": "stainless-reasoning",
   "metadata": {},
   "source": [
    "# Indexer\n",
    "\n",
    "At this point we have built a basic Web crawler; the next piece we will\n",
    "work on is the **index**. In the context of web search, an index is a\n",
    "data structure that makes it possible to look up a search term and find\n",
    "the pages where that term appears. In addition, we would like to know\n",
    "how many times the search term appears on each page, which will help\n",
    "identify the pages most relevant to the term.\n",
    "\n",
    "For example, if a user submits the search terms \"Java\" and\n",
    "\"programming\", we would look up both search terms and get two sets of\n",
    "pages. Pages with the word \"Java\" would include pages about the island\n",
    "of Java, the nickname for coffee, and the programming language. Pages\n",
    "with the word \"programming\" would include pages about different\n",
    "programming languages, as well as other uses of the word. By selecting\n",
    "pages with both terms, we hope to eliminate irrelevant pages and find\n",
    "the ones about Java programming.\n",
    "\n",
    "Now that we understand what the index is and what operations it\n",
    "performs, we can design a data structure to represent it.\n",
    "\n",
    "## Data structure selection\n",
    "\n",
    "The fundamental operation of the index is a **lookup**; specifically, we\n",
    "need the ability to look up a term and find all pages that contain it.\n",
    "The simplest implementation would be a collection of pages. Given a\n",
    "search term, we could iterate through the contents of the pages and\n",
    "select the ones that contain the search term. But the runtime would be\n",
    "proportional to the total number of words on all the pages, which would\n",
    "be way too slow.\n",
    "\n",
    "A better alternative is a **map**, which is a data structure that\n",
    "represents a collection of **key-value pairs** and provides a fast way\n",
    "to look up a **key** and find the corresponding **value**. For example,\n",
    "the first map we'll construct is a `TermCounter`, which maps from each\n",
    "search term to the number of times it appears in a page. The keys are\n",
    "the search terms and the values are the counts (also called\n",
    "\"frequencies\").\n",
    "\n",
    "Java provides an interface called `Map` that specifies the methods a map\n",
    "should provide; the most important are:\n",
    "\n",
    "-   `get(key)`: This method looks up a key and returns the corresponding\n",
    "    value.\n",
    "\n",
    "-   `put(key, value)`: This method adds a new key-value pair to the\n",
    "    `Map`, or if the key is already in the map, it replaces the value\n",
    "    associated with `key`.\n",
    "\n",
    "Java provides several implementations of `Map`, including the two we\n",
    "will focus on, `HashMap` and `TreeMap`. In upcoming chapters, we'll look\n",
    "at these implementations and analyze their performance.\n",
    "\n",
    "In addition to the `TermCounter`, which maps from search terms to\n",
    "counts, we will define a class called `Index`, which maps from a search\n",
    "term to a collection of pages where it appears. And that raises the next\n",
    "question, which is how to represent a collection of pages. Again, if we\n",
    "think about the operations we want to perform, that guides our decision.\n",
    "\n",
    "In this case, we'll need to combine two or more collections and find the\n",
    "pages that appear in all of them. You might recognize this operation as\n",
    "**set intersection**: the intersection of two sets is the set of\n",
    "elements that appear in both.\n",
    "\n",
    "As you might expect by now, Java provides a `Set` interface that defines\n",
    "the operations a set should perform. It doesn't actually provide set\n",
    "intersection, but it provides methods that make it possible to implement\n",
    "intersection and other set operations efficiently. The core `Set`\n",
    "methods are:\n",
    "\n",
    "-   `add(element)`: This method adds an element to a set; if the element\n",
    "    is already in the set, it has no effect.\n",
    "\n",
    "-   `contains(element)`: This method checks whether the given element is\n",
    "    in the set.\n",
    "\n",
    "Java provides several implementations of `Set`, including `HashSet` and\n",
    "`TreeSet`.\n",
    "\n",
    "Now that we've designed our data structures from the top down, we'll\n",
    "implement them from the inside out, starting with `TermCounter`.\n",
    "\n",
    "## TermCounter\n",
    "\n",
    "`TermCounter` is a class that represents a mapping from search terms to\n",
    "the number of times they appear in a page. Here is the first part of the\n",
    "class definition:"
   ]
  },
  {
   "cell_type": "code",
   "execution_count": null,
   "id": "amber-aluminum",
   "metadata": {},
   "outputs": [],
   "source": [
    "public class TermCounter {\n",
    "\n",
    "    private Map<String, Integer> map;\n",
    "    private String label;\n",
    "\n",
    "    public TermCounter(String label) {\n",
    "        this.label = label;\n",
    "        this.map = new HashMap<String, Integer>();\n",
    "    }\n",
    "}"
   ]
  },
  {
   "cell_type": "markdown",
   "id": "manual-earthquake",
   "metadata": {},
   "source": [
    "The instance variables are `map`, which contains the mapping from terms\n",
    "to counts, and `label`, which identifies the document the terms came\n",
    "from; we'll use it to store URLs.\n",
    "\n",
    "To implement the mapping, I chose `HashMap`, which is the most\n",
    "commonly-used `Map`. Coming up in a few chapters, you will see how it\n",
    "works and why it is a common choice.\n",
    "\n",
    "`TermCounter` provides `put` and `get`, which are defined like this:"
   ]
  },
  {
   "cell_type": "code",
   "execution_count": null,
   "id": "northern-shanghai",
   "metadata": {},
   "outputs": [],
   "source": [
    "public void put(String term, int count) {\n",
    "    map.put(term, count);\n",
    "}\n",
    "\n",
    "public Integer get(String term) {\n",
    "    Integer count = map.get(term);\n",
    "    return count == null ? 0 : count;\n",
    "}"
   ]
  },
  {
   "cell_type": "markdown",
   "id": "romance-subcommittee",
   "metadata": {},
   "source": [
    "`put` is just a **wrapper method**; when you call `put` on a\n",
    "`TermCounter`, it calls `put` on the embedded map.\n",
    "\n",
    "On the other hand, `get` actually does some work. When you call `get` on\n",
    "a `TermCounter`, it calls `get` on the map, and then checks the result.\n",
    "If the term does not appear in the map, `TermCount.get` returns 0.\n",
    "Defining `get` this way makes it easier to write `incrementTermCount`,\n",
    "which takes a term and increases by one the counter associated with that\n",
    "term."
   ]
  },
  {
   "cell_type": "code",
   "execution_count": null,
   "id": "august-insurance",
   "metadata": {},
   "outputs": [],
   "source": [
    "public void incrementTermCount(String term) {\n",
    "    put(term, get(term) + 1);\n",
    "}"
   ]
  },
  {
   "cell_type": "markdown",
   "id": "gross-circle",
   "metadata": {},
   "source": [
    "If the term has not been seen before, `get` returns 0; we add 1, then\n",
    "use `put` to add a new key-value pair to the map. If the term is already\n",
    "in the map, we get the old count, add 1, and then store the new count,\n",
    "which replaces the old value.\n",
    "\n",
    "In addition, `TermCounter` provides these other methods to help with\n",
    "indexing Web pages:"
   ]
  },
  {
   "cell_type": "code",
   "execution_count": null,
   "id": "incredible-scoop",
   "metadata": {},
   "outputs": [],
   "source": [
    "public void processElements(Elements paragraphs) {\n",
    "    for (Node node: paragraphs) {\n",
    "        processTree(node);\n",
    "    }\n",
    "}\n",
    "\n",
    "public void processTree(Node root) {\n",
    "    for (Node node: new WikiNodeIterable(root)) {\n",
    "        if (node instanceof TextNode) {\n",
    "            processText(((TextNode) node).text());\n",
    "        }\n",
    "    }\n",
    "}\n",
    "\n",
    "public void processText(String text) {\n",
    "    String[] array = text.replaceAll(\"\\\\pP\", \" \").\n",
    "                          toLowerCase().\n",
    "                          split(\"\\\\s+\");\n",
    "\n",
    "    for (int i=0; i<array.length; i++) {\n",
    "        String term = array[i];\n",
    "        incrementTermCount(term);\n",
    "    }\n",
    "}"
   ]
  },
  {
   "cell_type": "markdown",
   "id": "proof-devon",
   "metadata": {},
   "source": [
    "-   `processElements` takes an `Elements` object, which is a collection\n",
    "    of jsoup `Element` objects. It iterates through the collection and\n",
    "    calls `processTree` on each.\n",
    "\n",
    "-   `processTree` takes a jsoup `Node` that represents the root of a DOM\n",
    "    tree. It iterates through the tree to find the nodes that contain\n",
    "    text; then it extracts the text and passes it to `processText`.\n",
    "\n",
    "-   `processText` takes a `String` that contains words, spaces,\n",
    "    punctuation, etc. It removes punctuation characters by replacing\n",
    "    them with spaces, converts the remaining letters to lowercase, then\n",
    "    splits the text into words. Then it loops through the words it found\n",
    "    and calls `incrementTermCount` on each. The `replaceAll` and `split`\n",
    "    methods take **regular expressions** as parameters; you can read\n",
    "    more about them at <http://thinkdast.com/regex>.\n",
    "\n",
    "Finally, here's an example that demonstrates how `TermCounter` is used:"
   ]
  },
  {
   "cell_type": "code",
   "execution_count": null,
   "id": "viral-governor",
   "metadata": {},
   "outputs": [],
   "source": [
    "String url = \"http://en.wikipedia.org/wiki/Java_(programming_language)\";\n",
    "WikiFetcher wf = new WikiFetcher();\n",
    "Elements paragraphs = wf.fetchWikipedia(url);\n",
    "\n",
    "TermCounter counter = new TermCounter(url);\n",
    "counter.processElements(paragraphs);\n",
    "counter.printCounts();"
   ]
  },
  {
   "cell_type": "markdown",
   "id": "close-metallic",
   "metadata": {},
   "source": [
    "This example uses a `WikiFetcher` to download a page from Wikipedia and\n",
    "parse the main text. Then it creates a `TermCounter` and uses it to\n",
    "count the words in the page.\n",
    "\n",
    "In the next section, you'll have a chance to run this code and test your\n",
    "understanding by filling in a missing method.\n",
    "\n",
    "## Exercise 6\n",
    "\n",
    "In the repository for this book, you'll find the source files for this\n",
    "exercise:\n",
    "\n",
    "-   `TermCounter.java` contains the code from the previous section.\n",
    "\n",
    "-   `TermCounterTest.java` contains test code for `TermCounter.java`.\n",
    "\n",
    "-   `Index.java` contains the class definition for the next part of this\n",
    "    exercise.\n",
    "\n",
    "-   `WikiFetcher.java` contains the class we used in the previous\n",
    "    exercise to download and parse Web pages.\n",
    "\n",
    "-   `WikiNodeIterable.java` contains the class we used to traverse the\n",
    "    nodes in a DOM tree.\n",
    "\n",
    "You'll also find the Ant build file `build.xml`.\n",
    "\n",
    "Run `ant build` to compile the source files. Then run `ant TermCounter`;\n",
    "it should run the code from the previous section and print a list of\n",
    "terms and their counts. The output should look something like this:"
   ]
  },
  {
   "cell_type": "code",
   "execution_count": null,
   "id": "veterinary-causing",
   "metadata": {},
   "outputs": [],
   "source": [
    "genericservlet, 2\n",
    "configurations, 1\n",
    "claimed, 1\n",
    "servletresponse, 2\n",
    "occur, 2\n",
    "Total of all counts = -1"
   ]
  },
  {
   "cell_type": "markdown",
   "id": "separated-victoria",
   "metadata": {},
   "source": [
    "When you run it, the order of the terms might be different.\n",
    "\n",
    "The last line is supposed to print the total of the term counts, but it\n",
    "returns `-1` because the method `size` is incomplete. Fill in this\n",
    "method and run `ant TermCounter` again. The result should be `4798`.\n",
    "\n",
    "Run `ant TermCounterTest` to confirm that this part of the exercise is\n",
    "complete and correct.\n",
    "\n",
    "For the second part of the exercise, I'll present an implementation of\n",
    "an `Index` object and you will fill in a missing method. Here's the\n",
    "beginning of the class definition:"
   ]
  },
  {
   "cell_type": "code",
   "execution_count": null,
   "id": "alpine-property",
   "metadata": {},
   "outputs": [],
   "source": [
    "public class Index {\n",
    "\n",
    "    private Map<String, Set<TermCounter>> index = \n",
    "        new HashMap<String, Set<TermCounter>>();\n",
    "\n",
    "    public void add(String term, TermCounter tc) {\n",
    "        Set<TermCounter> set = get(term);\n",
    "\n",
    "        // if we're seeing a term for the first time, make a new Set\n",
    "        if (set == null) {\n",
    "            set = new HashSet<TermCounter>();\n",
    "            index.put(term, set);\n",
    "        }\n",
    "        // otherwise we can modify an existing Set\n",
    "        set.add(tc);\n",
    "    }\n",
    "\n",
    "    public Set<TermCounter> get(String term) {\n",
    "        return index.get(term);\n",
    "    }"
   ]
  },
  {
   "cell_type": "markdown",
   "id": "satisfied-starter",
   "metadata": {},
   "source": [
    "The instance variable, `index`, is a map from each search term to a set\n",
    "of `TermCounter` objects. Each `TermCounter` represents a page where the\n",
    "search term appears.\n",
    "\n",
    "The `add` method adds a new `TermCounter` to the set associated with a\n",
    "term. When we index a term that has not appeared before, we have to\n",
    "create a new set. Otherwise we can just add a new element to an existing\n",
    "set. In that case, `set.add` modifies a set that lives inside `index`,\n",
    "but doesn't modify `index` itself. The only time we modify `index` is\n",
    "when we add a new term.\n",
    "\n",
    "Finally, the `get` method takes a search term and returns the\n",
    "corresponding set of `TermCounter` objects.\n",
    "\n",
    "This data structure is moderately complicated. To review, an `Index`\n",
    "contains a `Map` from each search term to a `Set` of `TermCounter`\n",
    "objects, and each `TermCounter` is a map from search terms to counts.\n",
    "\n",
    "![Object diagram of an `Index`.](figs/index.pdf){width=\"4in\"}\n",
    "\n",
    "Figure [\\[indexfig\\]](#indexfig){reference-type=\"ref\"\n",
    "reference=\"indexfig\"} is an object diagram that shows these objects. The\n",
    "`Index` object has an instance variable named `index` that refers to a\n",
    "`Map`. In this example the `Map` contains only one string, ``Java\\\"\\\",\n",
    "which maps to a `Set` that contains two `TermCounter` objects, one for\n",
    "each page where the word \"Java\" appears.\n",
    "\n",
    "Each `TermCounter` contains `label`, which is the URL of the page, and\n",
    "`map`, which is a `Map` that contains the words on the page and the\n",
    "number of times each word appears.\n",
    "\n",
    "The method `printIndex` shows how to unpack this data structure:"
   ]
  },
  {
   "cell_type": "code",
   "execution_count": null,
   "id": "hundred-mexico",
   "metadata": {},
   "outputs": [],
   "source": [
    "public void printIndex() {\n",
    "    // loop through the search terms\n",
    "    for (String term: keySet()) {\n",
    "        System.out.println(term);\n",
    "\n",
    "        // for each term, print pages where it appears and frequencies\n",
    "        Set<TermCounter> tcs = get(term);\n",
    "        for (TermCounter tc: tcs) {\n",
    "            Integer count = tc.get(term);\n",
    "            System.out.println(\"    \" + tc.getLabel() + \" \" + count);\n",
    "        }\n",
    "    }\n",
    "}"
   ]
  },
  {
   "cell_type": "markdown",
   "id": "numeric-theater",
   "metadata": {},
   "source": [
    "The outer loop iterates the search terms. The inner loop iterates the\n",
    "`TermCounter` objects.\n",
    "\n",
    "Run `ant build` to make sure your source code is compiled, and then run\n",
    "`ant Index`. It downloads two Wikipedia pages, indexes them, and prints\n",
    "the results; but when you run it you won't see any output because we've\n",
    "left one of the methods empty.\n",
    "\n",
    "Your job is to fill in `indexPage`, which takes a URL (as a `String`)\n",
    "and an `Elements` object, and updates the index. The comments below\n",
    "sketch what it should do:"
   ]
  },
  {
   "cell_type": "code",
   "execution_count": null,
   "id": "academic-punch",
   "metadata": {},
   "outputs": [],
   "source": [
    "public void indexPage(String url, Elements paragraphs) {\n",
    "    // make a TermCounter and count the terms in the paragraphs\n",
    "\n",
    "    // for each term in the TermCounter, add the TermCounter to the index\n",
    "}"
   ]
  },
  {
   "cell_type": "markdown",
   "id": "laden-register",
   "metadata": {},
   "source": [
    "When it's working, run `ant Index` again, and you should see output like\n",
    "this:"
   ]
  },
  {
   "cell_type": "code",
   "execution_count": null,
   "id": "previous-sheep",
   "metadata": {},
   "outputs": [],
   "source": [
    "...\n",
    "configurations\n",
    "    http://en.wikipedia.org/wiki/Programming_language 1\n",
    "    http://en.wikipedia.org/wiki/Java_(programming_language) 1\n",
    "claimed\n",
    "    http://en.wikipedia.org/wiki/Java_(programming_language) 1\n",
    "servletresponse\n",
    "    http://en.wikipedia.org/wiki/Java_(programming_language) 2\n",
    "occur\n",
    "    http://en.wikipedia.org/wiki/Java_(programming_language) 2"
   ]
  },
  {
   "cell_type": "markdown",
   "id": "center-prisoner",
   "metadata": {},
   "source": [
    "The order of the search terms might be different when you run it.\n",
    "\n",
    "Also, run `ant TestIndex` to confirm that this part of the exercise is\n",
    "complete."
   ]
  }
 ],
 "metadata": {},
 "nbformat": 4,
 "nbformat_minor": 5
}
