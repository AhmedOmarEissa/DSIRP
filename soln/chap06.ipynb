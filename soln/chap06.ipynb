{
 "cells": [
  {
   "cell_type": "markdown",
   "id": "c905f415",
   "metadata": {},
   "source": [
    "# Chapter 6"
   ]
  },
  {
   "cell_type": "markdown",
   "id": "83309c58",
   "metadata": {
    "tags": [
     "remove-cell"
    ]
   },
   "source": [
    "*Data Structures and Information Retrieval in Python*\n",
    "\n",
    "Copyright 2021 Allen Downey\n",
    "\n",
    "License: [Creative Commons Attribution-NonCommercial-ShareAlike 4.0 International](https://creativecommons.org/licenses/by-nc-sa/4.0/)"
   ]
  },
  {
   "cell_type": "code",
   "execution_count": 88,
   "id": "0025c5c8",
   "metadata": {
    "tags": [
     "remove-cell"
    ]
   },
   "outputs": [],
   "source": [
    "from os.path import basename, exists\n",
    "\n",
    "def download(url):\n",
    "    filename = basename(url)\n",
    "    if not exists(filename):\n",
    "        from urllib.request import urlretrieve\n",
    "        local, _ = urlretrieve(url, filename)\n",
    "        print('Downloaded ' + local)\n",
    "    \n",
    "# download('https://github.com/AllenDowney/DSIRP/raw/main/utils.py')"
   ]
  },
  {
   "cell_type": "markdown",
   "id": "42302f03",
   "metadata": {},
   "source": [
    "[Click here to run this chapter on Colab](https://colab.research.google.com/github/AllenDowney/DSIRP/blob/main/chapters/chap01.ipynb)"
   ]
  },
  {
   "cell_type": "markdown",
   "id": "e7a26f99",
   "metadata": {},
   "source": [
    "# Tree traversal\n",
    "\n",
    "This chapter introduces the application we will develop during the rest\n",
    "of the book, a web search engine. I describe the elements of a search\n",
    "engine and introduce the first application, a Web crawler that downloads\n",
    "and parses pages from Wikipedia. This chapter also presents a recursive\n",
    "implementation of depth-first search and an iterative implementation\n",
    "that uses a Java `Deque` to implement a \"last in, first out\" stack."
   ]
  },
  {
   "cell_type": "markdown",
   "id": "7bc9c7cc",
   "metadata": {},
   "source": [
    "## Search engines\n",
    "\n",
    "A **web search engine**, like Google Search or Bing, takes a set of\n",
    "\"search terms\" and returns a list of web pages that are relevant to\n",
    "those terms (I'll discuss what \"relevant\" means later). You can read\n",
    "more at <http://thinkdast.com/searcheng>, but I'll explain what you need\n",
    "as we go along.\n",
    "\n",
    "The essential components of a search engine are:\n",
    "\n",
    "-   Crawling: We'll need a program that can download a web page, parse\n",
    "    it, and extract the text and any links to other pages.\n",
    "\n",
    "-   Indexing: We'll need a data structure that makes it possible to look\n",
    "    up a search term and find the pages that contain it.\n",
    "\n",
    "-   Retrieval: And we'll need a way to collect results from the Index\n",
    "    and identify pages that are most relevant to the search terms."
   ]
  },
  {
   "cell_type": "markdown",
   "id": "92d222d7",
   "metadata": {},
   "source": [
    "We'll start with the crawler. The goal of a crawler is to discover and\n",
    "download a set of web pages. For search engines like Google and Bing,\n",
    "the goal is to find *all* web pages, but often crawlers are limited to a\n",
    "smaller domain. In our case, we will only read pages from Wikipedia.\n",
    "\n",
    "As a first step, we'll build a crawler that reads a Wikipedia page,\n",
    "finds the first link, follows the link to another page, and repeats. We\n",
    "will use this crawler to test the \"Getting to Philosophy\" conjecture,\n",
    "which states:\n",
    "\n",
    "> Clicking on the first lowercase link in the main text of a Wikipedia\n",
    "> article, and then repeating the process for subsequent articles,\n",
    "> usually eventually gets one to the Philosophy article."
   ]
  },
  {
   "cell_type": "markdown",
   "id": "25ee3ab7",
   "metadata": {},
   "source": [
    "This conjecture is stated at <http://thinkdast.com/getphil>, and you can\n",
    "read its history there.\n",
    "\n",
    "Testing the conjecture will allow us to build the basic pieces of a\n",
    "crawler without having to crawl the entire web, or even all of\n",
    "Wikipedia. And I think the exercise is kind of fun!\n",
    "\n",
    "In a few chapters, we'll work on the indexer, and then we'll get to the\n",
    "retriever."
   ]
  },
  {
   "cell_type": "markdown",
   "id": "eab2e79b",
   "metadata": {},
   "source": [
    "## Using BeautifulSoup\n",
    "\n",
    "When you download a web page, the contents are written in HyperText Markup Language, aka HTML. \n",
    "For example, here is a minimal HTML document, which I borrowed from the [BeautifulSoup documentation](https://beautiful-soup-4.readthedocs.io), but the text is from Lewis Carroll's [*Alice's Adventures in Wonderland*](https://www.gutenberg.org/files/11/11-h/11-h.htm)"
   ]
  },
  {
   "cell_type": "code",
   "execution_count": 89,
   "id": "c849fecd",
   "metadata": {},
   "outputs": [],
   "source": [
    "html_doc = \"\"\"\n",
    "<html><head><title>The Dormouse's story</title></head>\n",
    "<body>\n",
    "<p class=\"title\"><b>The Dormouse's story</b></p>\n",
    "\n",
    "<p class=\"story\">Once upon a time there were three little sisters; and their names were\n",
    "<a href=\"http://example.com/elsie\" class=\"sister\" id=\"link1\">Elsie</a>,\n",
    "<a href=\"http://example.com/lacie\" class=\"sister\" id=\"link2\">Lacie</a> and\n",
    "<a href=\"http://example.com/tillie\" class=\"sister\" id=\"link3\">Tillie</a>;\n",
    "and they lived at the bottom of a well.</p>\n",
    "\n",
    "<p class=\"story\">...</p>\n",
    "\"\"\""
   ]
  },
  {
   "cell_type": "markdown",
   "id": "88220a73",
   "metadata": {},
   "source": []
  },
  {
   "cell_type": "code",
   "execution_count": 90,
   "id": "397bda6b",
   "metadata": {},
   "outputs": [
    {
     "data": {
      "text/plain": [
       "bs4.BeautifulSoup"
      ]
     },
     "execution_count": 90,
     "metadata": {},
     "output_type": "execute_result"
    }
   ],
   "source": [
    "from bs4 import BeautifulSoup\n",
    "\n",
    "soup = BeautifulSoup(html_doc, 'html.parser')\n",
    "type(soup)"
   ]
  },
  {
   "cell_type": "code",
   "execution_count": 91,
   "id": "0141df22",
   "metadata": {},
   "outputs": [
    {
     "data": {
      "text/plain": [
       "<list_iterator at 0x7fe780c1b6d0>"
      ]
     },
     "execution_count": 91,
     "metadata": {},
     "output_type": "execute_result"
    }
   ],
   "source": [
    "soup.children"
   ]
  },
  {
   "cell_type": "code",
   "execution_count": 92,
   "id": "863d7d8c",
   "metadata": {},
   "outputs": [
    {
     "name": "stdout",
     "output_type": "stream",
     "text": [
      "<class 'bs4.element.NavigableString'>\n",
      "<class 'bs4.element.Tag'>\n"
     ]
    }
   ],
   "source": [
    "for element in soup.children:\n",
    "    print(type(element))"
   ]
  },
  {
   "cell_type": "code",
   "execution_count": 93,
   "id": "9bcb0f15",
   "metadata": {},
   "outputs": [
    {
     "name": "stdout",
     "output_type": "stream",
     "text": [
      "<class 'bs4.element.NavigableString'>\n",
      "<class 'bs4.element.Tag'>\n",
      "<class 'bs4.element.Tag'>\n",
      "<class 'bs4.element.Tag'>\n",
      "<class 'bs4.element.NavigableString'>\n",
      "<class 'bs4.element.NavigableString'>\n",
      "<class 'bs4.element.Tag'>\n",
      "<class 'bs4.element.NavigableString'>\n",
      "<class 'bs4.element.Tag'>\n",
      "<class 'bs4.element.Tag'>\n",
      "<class 'bs4.element.NavigableString'>\n",
      "<class 'bs4.element.NavigableString'>\n",
      "<class 'bs4.element.Tag'>\n",
      "<class 'bs4.element.NavigableString'>\n",
      "<class 'bs4.element.Tag'>\n",
      "<class 'bs4.element.NavigableString'>\n",
      "<class 'bs4.element.NavigableString'>\n",
      "<class 'bs4.element.Tag'>\n",
      "<class 'bs4.element.NavigableString'>\n",
      "<class 'bs4.element.NavigableString'>\n",
      "<class 'bs4.element.Tag'>\n",
      "<class 'bs4.element.NavigableString'>\n",
      "<class 'bs4.element.NavigableString'>\n",
      "<class 'bs4.element.NavigableString'>\n",
      "<class 'bs4.element.Tag'>\n",
      "<class 'bs4.element.NavigableString'>\n",
      "<class 'bs4.element.NavigableString'>\n"
     ]
    }
   ],
   "source": [
    "for element in soup.descendants:\n",
    "    print(type(element))"
   ]
  },
  {
   "cell_type": "code",
   "execution_count": 94,
   "id": "6d83d8f0",
   "metadata": {},
   "outputs": [
    {
     "data": {
      "text/plain": [
       "<a class=\"sister\" href=\"http://example.com/elsie\" id=\"link1\">Elsie</a>"
      ]
     },
     "execution_count": 94,
     "metadata": {},
     "output_type": "execute_result"
    }
   ],
   "source": [
    "first_link = soup.find(\"a\")\n",
    "first_link"
   ]
  },
  {
   "cell_type": "code",
   "execution_count": 95,
   "id": "e89e8437",
   "metadata": {},
   "outputs": [
    {
     "data": {
      "text/plain": [
       "3"
      ]
     },
     "execution_count": 95,
     "metadata": {},
     "output_type": "execute_result"
    }
   ],
   "source": [
    "links = soup.find_all(\"a\")\n",
    "len(links)"
   ]
  },
  {
   "cell_type": "code",
   "execution_count": 96,
   "id": "e11a78d8",
   "metadata": {},
   "outputs": [
    {
     "data": {
      "text/plain": [
       "<a class=\"sister\" href=\"http://example.com/lacie\" id=\"link2\">Lacie</a>"
      ]
     },
     "execution_count": 96,
     "metadata": {},
     "output_type": "execute_result"
    }
   ],
   "source": [
    "link = soup.find(id=\"link2\")\n",
    "link"
   ]
  },
  {
   "cell_type": "code",
   "execution_count": 97,
   "id": "c5a6fd88",
   "metadata": {},
   "outputs": [
    {
     "data": {
      "text/plain": [
       "<p class=\"title\"><b>The Dormouse's story</b></p>"
      ]
     },
     "execution_count": 97,
     "metadata": {},
     "output_type": "execute_result"
    }
   ],
   "source": [
    "title = soup.find(class_=\"title\")\n",
    "title"
   ]
  },
  {
   "cell_type": "code",
   "execution_count": 98,
   "id": "9860d35c",
   "metadata": {},
   "outputs": [
    {
     "data": {
      "text/plain": [
       "3"
      ]
     },
     "execution_count": 98,
     "metadata": {},
     "output_type": "execute_result"
    }
   ],
   "source": [
    "paragraphs = soup.find_all(\"p\")\n",
    "len(paragraphs)"
   ]
  },
  {
   "cell_type": "code",
   "execution_count": 99,
   "id": "9cc4c70d",
   "metadata": {},
   "outputs": [
    {
     "name": "stdout",
     "output_type": "stream",
     "text": [
      "<class 'bs4.element.Tag'>\n",
      "<class 'bs4.element.Tag'>\n",
      "<class 'bs4.element.Tag'>\n"
     ]
    }
   ],
   "source": [
    "for para in paragraphs:\n",
    "    print(type(para))"
   ]
  },
  {
   "cell_type": "code",
   "execution_count": 100,
   "id": "2da4bb66",
   "metadata": {},
   "outputs": [
    {
     "name": "stdout",
     "output_type": "stream",
     "text": [
      "p\n",
      "p\n",
      "p\n"
     ]
    }
   ],
   "source": [
    "for para in paragraphs:\n",
    "    print(para.name)"
   ]
  },
  {
   "cell_type": "code",
   "execution_count": 101,
   "id": "a845bbec",
   "metadata": {},
   "outputs": [
    {
     "name": "stdout",
     "output_type": "stream",
     "text": [
      "<p class=\"title\"><b>The Dormouse's story</b></p>\n",
      "<p class=\"story\">Once upon a time there were three little sisters; and their names were\n",
      "<a class=\"sister\" href=\"http://example.com/elsie\" id=\"link1\">Elsie</a>,\n",
      "<a class=\"sister\" href=\"http://example.com/lacie\" id=\"link2\">Lacie</a> and\n",
      "<a class=\"sister\" href=\"http://example.com/tillie\" id=\"link3\">Tillie</a>;\n",
      "and they lived at the bottom of a well.</p>\n",
      "<p class=\"story\">...</p>\n"
     ]
    }
   ],
   "source": [
    "for para in paragraphs:\n",
    "    print(para)"
   ]
  },
  {
   "cell_type": "code",
   "execution_count": 102,
   "id": "a5a99abc",
   "metadata": {},
   "outputs": [
    {
     "name": "stdout",
     "output_type": "stream",
     "text": [
      "<class 'bs4.element.Tag'>\n",
      "<class 'bs4.element.NavigableString'>\n",
      "<class 'bs4.element.Tag'>\n",
      "<class 'bs4.element.NavigableString'>\n",
      "<class 'bs4.element.Tag'>\n",
      "<class 'bs4.element.NavigableString'>\n",
      "<class 'bs4.element.Tag'>\n",
      "<class 'bs4.element.NavigableString'>\n",
      "<class 'bs4.element.NavigableString'>\n"
     ]
    }
   ],
   "source": [
    "for para in paragraphs:\n",
    "    for element in para.children:\n",
    "        print(type(element))"
   ]
  },
  {
   "cell_type": "code",
   "execution_count": 103,
   "id": "6837ae63",
   "metadata": {},
   "outputs": [
    {
     "name": "stdout",
     "output_type": "stream",
     "text": [
      "<class 'bs4.element.NavigableString'>\n",
      "<class 'bs4.element.NavigableString'>\n",
      "<class 'bs4.element.NavigableString'>\n",
      "<class 'bs4.element.NavigableString'>\n",
      "<class 'bs4.element.NavigableString'>\n"
     ]
    }
   ],
   "source": [
    "from bs4 import NavigableString\n",
    "\n",
    "for para in paragraphs:\n",
    "    for element in para.children:\n",
    "        if isinstance(element, NavigableString):\n",
    "            print(type(element))"
   ]
  },
  {
   "cell_type": "code",
   "execution_count": 104,
   "id": "5beb6765",
   "metadata": {},
   "outputs": [
    {
     "name": "stdout",
     "output_type": "stream",
     "text": [
      "Once upon a time there were three little sisters; and their names were\n",
      "\n",
      ",\n",
      "\n",
      " and\n",
      "\n",
      ";\n",
      "and they lived at the bottom of a well.\n",
      "...\n"
     ]
    }
   ],
   "source": [
    "from bs4 import NavigableString\n",
    "\n",
    "for para in paragraphs:\n",
    "    for element in para.children:\n",
    "        if isinstance(element, NavigableString):\n",
    "            print(element)"
   ]
  },
  {
   "cell_type": "markdown",
   "id": "a0565bab",
   "metadata": {},
   "source": [
    "## Depth-first search\n",
    "\n",
    "There are several ways you might reasonably traverse a tree, each with\n",
    "different applications. We'll start with \"depth-first search\", or DFS.\n",
    "DFS starts at the root of the tree and selects the first child. If the\n",
    "child has children, it selects the first child again. When it gets to a\n",
    "node with no children, it backtracks, moving up the tree to the parent\n",
    "node, where it selects the next child if there is one; otherwise it\n",
    "backtracks again. When it has explored the last child of the root, it's\n",
    "done.\n",
    "\n",
    "There are two common ways to implement DFS, recursively and iteratively.\n",
    "The recursive implementation is simple and elegant:"
   ]
  },
  {
   "cell_type": "code",
   "execution_count": 105,
   "id": "6b3ebd50",
   "metadata": {},
   "outputs": [],
   "source": [
    "def recursive_DFS(element):\n",
    "    if isinstance(element, NavigableString):\n",
    "        print(element, end='')\n",
    "\n",
    "    children = getattr(element, \"children\", [])\n",
    "    for child in children:\n",
    "        recursive_DFS(child)"
   ]
  },
  {
   "cell_type": "code",
   "execution_count": 106,
   "id": "be3f2553",
   "metadata": {},
   "outputs": [
    {
     "name": "stdout",
     "output_type": "stream",
     "text": [
      "\n",
      "The Dormouse's story\n",
      "\n",
      "The Dormouse's story\n",
      "Once upon a time there were three little sisters; and their names were\n",
      "Elsie,\n",
      "Lacie and\n",
      "Tillie;\n",
      "and they lived at the bottom of a well.\n",
      "...\n"
     ]
    }
   ],
   "source": [
    "recursive_DFS(soup)"
   ]
  },
  {
   "cell_type": "markdown",
   "id": "c255e710",
   "metadata": {},
   "source": [
    "This method gets invoked on every `Node` in the tree, starting with the\n",
    "root. If the `Node` it gets is a `TextNode`, it prints the contents. If\n",
    "the `Node` has any children, it invokes `recursiveDFS` on each one of\n",
    "them in order.\n",
    "\n",
    "In this example, we print the contents of each `TextNode` before\n",
    "traversing the children, so this is an example of a \"pre-order\"\n",
    "traversal. You can read about \"pre-order\", \"post-order\", and \"in-order\"\n",
    "traversals at <http://thinkdast.com/treetrav>. For this application, the\n",
    "traversal order doesn't matter.\n",
    "\n",
    "By making recursive calls, `recursiveDFS` uses the call stack\n",
    "(<http://thinkdast.com/callstack>) to keep track of the child nodes and\n",
    "process them in the right order. As an alternative, we can use a stack\n",
    "data structure to keep track of the nodes ourselves; if we do that, we\n",
    "can avoid the recursion and traverse the tree iteratively."
   ]
  },
  {
   "cell_type": "markdown",
   "id": "85454c8c",
   "metadata": {},
   "source": [
    "## Stacks in Java\n",
    "\n",
    "A stack is a data structure that is similar to a list: it is a\n",
    "collection that maintains the order of the elements. The primary\n",
    "difference between a stack and a list is that the stack provides fewer\n",
    "methods. In the usual convention, it provides:\n",
    "\n",
    "-   `push`: which adds an element to the top of the stack.\n",
    "\n",
    "-   `pop`: which removes and returns the top-most element from the\n",
    "    stack.\n",
    "\n",
    "Because `pop` always returns the top-most element, a stack is also\n",
    "called a \"LIFO\", which stands for \"last in, first out\". An alternative\n",
    "to a stack is a \"queue\", which returns elements in the same order they\n",
    "are added; that is, \"first in, first out\", or FIFO.\n",
    "\n",
    "It might not be obvious why stacks and queues are useful: they don't\n",
    "provide any capabilities that aren't provided by lists; in fact, they\n",
    "provide fewer capabilities. So why not use lists for everything? There\n",
    "are two reasons:\n",
    "\n",
    "1.  If you limit yourself to a small set of methods --- that is, a small\n",
    "    API --- your code will be more readable and less error-prone. For\n",
    "    example, if you use a list to represent a stack, you might\n",
    "    accidentally remove an element in the wrong order. With the stack\n",
    "    API, this kind of mistake is literally impossible. And the best way\n",
    "    to avoid errors is to make them impossible.\n",
    "\n",
    "2.  If a data structure provides a small API, it is easier to implement\n",
    "    efficiently. For example, a simple way to implement a stack is a\n",
    "    singly-linked list. When we push an element onto the stack, we add\n",
    "    it to the beginning of the list; when we pop an element, we remove\n",
    "    it from the beginning. For a linked list, adding and removing from\n",
    "    the beginning are constant time operations, so this implementation\n",
    "    is efficient. Conversely, big APIs are harder to implement\n",
    "    efficiently."
   ]
  },
  {
   "cell_type": "markdown",
   "id": "dd027503",
   "metadata": {},
   "source": [
    "To implement a stack in Java, you have three options:\n",
    "\n",
    "1.  Go ahead and use `ArrayList` or `LinkedList`. If you use\n",
    "    `ArrayList`, be sure to add and remove from the *end*, which is a\n",
    "    constant time operation. And be careful not to add elements in the\n",
    "    wrong place or remove them in the wrong order.\n",
    "\n",
    "3.  Probably the best choice is to use one of the implementations of the\n",
    "    `Deque` interface, like `ArrayDeque`.\n",
    "\n",
    "\"Deque\" stands for \"double-ended queue\"; it's supposed to be pronounced\n",
    "\"deck\", but some people say \"deek\". In Java, the `Deque` interface\n",
    "provides `push`, `pop`, `peek`, and `isEmpty`, so you can use a `Deque`\n",
    "as a stack. It provides other methods, which you can read about at\n",
    "<http://thinkdast.com/deque>, but we won't use them for now."
   ]
  },
  {
   "cell_type": "markdown",
   "id": "8bf2a76e",
   "metadata": {},
   "source": [
    "## Iterative DFS\n",
    "\n",
    "Here is an iterative version of DFS that uses an `ArrayDeque` to\n",
    "represent a stack of `Node` objects:"
   ]
  },
  {
   "cell_type": "code",
   "execution_count": 107,
   "id": "8a2a2329",
   "metadata": {},
   "outputs": [],
   "source": [
    "def iterative_DFS(root):\n",
    "    stack = []\n",
    "    stack.append(root)\n",
    "    \n",
    "    while(stack):\n",
    "        element = stack.pop()\n",
    "        if isinstance(element, NavigableString):\n",
    "            print(element, end='')\n",
    "\n",
    "        children = getattr(element, \"contents\", [])\n",
    "        for child in reversed(children):\n",
    "            stack.append(child)"
   ]
  },
  {
   "cell_type": "markdown",
   "id": "13fc8784",
   "metadata": {},
   "source": [
    "The parameter, `root`, is the root of the tree we want to traverse, so\n",
    "we start by creating the stack and pushing the root onto it.\n",
    "\n",
    "The loop continues until the stack is empty. Each time through, it pops\n",
    "a `Node` off the stack. If it gets a `TextNode`, it prints the contents.\n",
    "Then it pushes the children onto the stack. In order to process the\n",
    "children in the right order, we have to push them onto the stack in\n",
    "reverse order; we do that by copying the children into an `ArrayList`,\n",
    "reversing the elements in place, and then iterating through the reversed\n",
    "`ArrayList`.\n",
    "\n",
    "\n"
   ]
  },
  {
   "cell_type": "code",
   "execution_count": 108,
   "id": "6c6dc39d",
   "metadata": {},
   "outputs": [
    {
     "name": "stdout",
     "output_type": "stream",
     "text": [
      "\n",
      "The Dormouse's story\n",
      "\n",
      "The Dormouse's story\n",
      "Once upon a time there were three little sisters; and their names were\n",
      "Elsie,\n",
      "Lacie and\n",
      "Tillie;\n",
      "and they lived at the bottom of a well.\n",
      "...\n"
     ]
    }
   ],
   "source": [
    "iterative_DFS(soup)"
   ]
  },
  {
   "cell_type": "code",
   "execution_count": 109,
   "id": "395250e2",
   "metadata": {},
   "outputs": [],
   "source": [
    "from bs4 import Tag\n",
    "\n",
    "def find(root, tag_name):\n",
    "    stack = []\n",
    "    stack.append(root)\n",
    "    \n",
    "    while(stack):\n",
    "        element = stack.pop()\n",
    "        if isinstance(element, Tag):\n",
    "            if element.name == tag_name:\n",
    "                return element\n",
    "\n",
    "        children = getattr(element, \"contents\", [])\n",
    "        for child in reversed(children):\n",
    "            stack.append(child)"
   ]
  },
  {
   "cell_type": "code",
   "execution_count": 110,
   "id": "128091ec",
   "metadata": {},
   "outputs": [
    {
     "data": {
      "text/plain": [
       "<p class=\"title\"><b>The Dormouse's story</b></p>"
      ]
     },
     "execution_count": 110,
     "metadata": {},
     "output_type": "execute_result"
    }
   ],
   "source": [
    "find(soup, \"p\")"
   ]
  },
  {
   "cell_type": "code",
   "execution_count": 111,
   "id": "b8602dba",
   "metadata": {},
   "outputs": [
    {
     "data": {
      "text/plain": [
       "<a class=\"sister\" href=\"http://example.com/elsie\" id=\"link1\">Elsie</a>"
      ]
     },
     "execution_count": 111,
     "metadata": {},
     "output_type": "execute_result"
    }
   ],
   "source": [
    "find(soup, \"a\")"
   ]
  },
  {
   "cell_type": "code",
   "execution_count": 112,
   "id": "e83d1810",
   "metadata": {},
   "outputs": [],
   "source": [
    "find(soup, \"not a tag\")"
   ]
  },
  {
   "cell_type": "code",
   "execution_count": 113,
   "id": "8286a8b5",
   "metadata": {},
   "outputs": [],
   "source": [
    "def find_all(root, tag_name):\n",
    "    stack = []\n",
    "    stack.append(root)\n",
    "    \n",
    "    while(stack):\n",
    "        element = stack.pop()\n",
    "        if isinstance(element, Tag):\n",
    "            if element.name == tag_name:\n",
    "                yield element\n",
    "\n",
    "        children = getattr(element, \"contents\", [])\n",
    "        for child in reversed(children):\n",
    "            stack.append(child)"
   ]
  },
  {
   "cell_type": "code",
   "execution_count": 114,
   "id": "f3bc75f9",
   "metadata": {},
   "outputs": [
    {
     "data": {
      "text/plain": [
       "<generator object find_all at 0x7fe798396200>"
      ]
     },
     "execution_count": 114,
     "metadata": {},
     "output_type": "execute_result"
    }
   ],
   "source": [
    "it = find_all(soup, \"a\")\n",
    "it"
   ]
  },
  {
   "cell_type": "code",
   "execution_count": 64,
   "id": "03ce7c2b",
   "metadata": {},
   "outputs": [
    {
     "name": "stdout",
     "output_type": "stream",
     "text": [
      "<a class=\"sister\" href=\"http://example.com/elsie\" id=\"link1\">Elsie</a>\n",
      "<a class=\"sister\" href=\"http://example.com/lacie\" id=\"link2\">Lacie</a>\n",
      "<a class=\"sister\" href=\"http://example.com/tillie\" id=\"link3\">Tillie</a>\n"
     ]
    }
   ],
   "source": [
    "for tag in it:\n",
    "    print(tag)"
   ]
  },
  {
   "cell_type": "code",
   "execution_count": 143,
   "id": "9d8e43f5",
   "metadata": {},
   "outputs": [],
   "source": [
    "def recursive_find_all(element, tag_name):\n",
    "    if isinstance(element, Tag):\n",
    "        if element.name == tag_name:\n",
    "            yield element\n",
    "\n",
    "    children = getattr(element, \"children\", [])\n",
    "    for child in children:\n",
    "        yield from recursive_find_all(child, tag_name)"
   ]
  },
  {
   "cell_type": "code",
   "execution_count": 144,
   "id": "bbf06601",
   "metadata": {},
   "outputs": [
    {
     "name": "stdout",
     "output_type": "stream",
     "text": [
      "<a class=\"sister\" href=\"http://example.com/elsie\" id=\"link1\">Elsie</a>\n",
      "<a class=\"sister\" href=\"http://example.com/lacie\" id=\"link2\">Lacie</a>\n",
      "<a class=\"sister\" href=\"http://example.com/tillie\" id=\"link3\">Tillie</a>\n"
     ]
    }
   ],
   "source": [
    "it = recursive_find_all(soup, \"a\")\n",
    "\n",
    "for tag in it:\n",
    "    print(tag)"
   ]
  },
  {
   "cell_type": "code",
   "execution_count": null,
   "id": "25af5706",
   "metadata": {},
   "outputs": [],
   "source": []
  },
  {
   "cell_type": "code",
   "execution_count": null,
   "id": "6d3eac88",
   "metadata": {},
   "outputs": [],
   "source": []
  },
  {
   "cell_type": "code",
   "execution_count": null,
   "id": "5a679aa1",
   "metadata": {},
   "outputs": [],
   "source": []
  },
  {
   "cell_type": "code",
   "execution_count": 73,
   "id": "80dc844f",
   "metadata": {},
   "outputs": [],
   "source": [
    "url = \"https://en.wikipedia.org/wiki/Python_(programming_language)\"\n",
    "download(url)"
   ]
  },
  {
   "cell_type": "code",
   "execution_count": 74,
   "id": "6a38e2c9",
   "metadata": {},
   "outputs": [],
   "source": [
    "from os.path import basename\n",
    "\n",
    "filename = basename(url)"
   ]
  },
  {
   "cell_type": "code",
   "execution_count": 75,
   "id": "b1e69e3e",
   "metadata": {},
   "outputs": [],
   "source": [
    "fp = open(filename)\n",
    "soup2 = BeautifulSoup(fp, 'html.parser')"
   ]
  },
  {
   "cell_type": "code",
   "execution_count": 76,
   "id": "35a13a92",
   "metadata": {},
   "outputs": [
    {
     "data": {
      "text/plain": [
       "<a id=\"top\"></a>"
      ]
     },
     "execution_count": 76,
     "metadata": {},
     "output_type": "execute_result"
    }
   ],
   "source": [
    "find(soup2, \"a\")"
   ]
  },
  {
   "cell_type": "code",
   "execution_count": 77,
   "id": "1db608d2",
   "metadata": {},
   "outputs": [
    {
     "data": {
      "text/plain": [
       "<generator object find_all at 0x7fe79856c120>"
      ]
     },
     "execution_count": 77,
     "metadata": {},
     "output_type": "execute_result"
    }
   ],
   "source": [
    "find_all(soup2, \"a\")"
   ]
  },
  {
   "cell_type": "code",
   "execution_count": null,
   "id": "6ae08cec",
   "metadata": {},
   "outputs": [],
   "source": []
  }
 ],
 "metadata": {
  "kernelspec": {
   "display_name": "Python 3",
   "language": "python",
   "name": "python3"
  },
  "language_info": {
   "codemirror_mode": {
    "name": "ipython",
    "version": 3
   },
   "file_extension": ".py",
   "mimetype": "text/x-python",
   "name": "python",
   "nbconvert_exporter": "python",
   "pygments_lexer": "ipython3",
   "version": "3.9.4"
  }
 },
 "nbformat": 4,
 "nbformat_minor": 5
}
