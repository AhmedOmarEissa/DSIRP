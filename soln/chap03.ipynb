{
 "cells": [
  {
   "cell_type": "markdown",
   "id": "metropolitan-watershed",
   "metadata": {},
   "source": [
    "# Chapter xx"
   ]
  },
  {
   "cell_type": "markdown",
   "id": "employed-bottom",
   "metadata": {
    "tags": [
     "remove-cell"
    ]
   },
   "source": [
    "*Data Structures and Information Retrieval in Python*\n",
    "\n",
    "Copyright 2021 Allen Downey\n",
    "\n",
    "License: [Creative Commons Attribution-NonCommercial-ShareAlike 4.0 International](https://creativecommons.org/licenses/by-nc-sa/4.0/)"
   ]
  },
  {
   "cell_type": "code",
   "execution_count": 1,
   "id": "derived-prototype",
   "metadata": {
    "tags": [
     "remove-cell"
    ]
   },
   "outputs": [],
   "source": [
    "from os.path import basename, exists\n",
    "\n",
    "def download(url):\n",
    "    filename = basename(url)\n",
    "    if not exists(filename):\n",
    "        from urllib.request import urlretrieve\n",
    "        local, _ = urlretrieve(url, filename)\n",
    "        print('Downloaded ' + local)\n",
    "    \n",
    "# download('https://github.com/AllenDowney/DSIRP/raw/main/utils.py')"
   ]
  },
  {
   "cell_type": "markdown",
   "id": "identical-defeat",
   "metadata": {},
   "source": [
    "[Click here to run this chapter on Colab](https://colab.research.google.com/github/AllenDowney/DSIRP/blob/main/chapters/chap01.ipynb)"
   ]
  },
  {
   "cell_type": "code",
   "execution_count": null,
   "id": "excess-plaintiff",
   "metadata": {},
   "outputs": [],
   "source": []
  },
  {
   "cell_type": "markdown",
   "id": "comparable-acceptance",
   "metadata": {},
   "source": [
    "# ArrayList\n",
    "\n",
    "This chapter kills two birds with one stone: I present solutions to the\n",
    "previous exercise and demonstrate a way to classify algorithms using\n",
    "**amortized analysis**.\n",
    "\n",
    "## Classifying MyArrayList methods\n",
    "\n",
    "For many methods, we can identify the order of growth by examining the\n",
    "code. For example, here's the implementation of `get` from\n",
    "`MyArrayList`:"
   ]
  },
  {
   "cell_type": "code",
   "execution_count": null,
   "id": "decimal-miller",
   "metadata": {},
   "outputs": [],
   "source": [
    "public E get(int index) {\n",
    "    if (index < 0 || index >= size) {\n",
    "        throw new IndexOutOfBoundsException();\n",
    "    }\n",
    "    return array[index];\n",
    "}"
   ]
  },
  {
   "cell_type": "markdown",
   "id": "loved-kennedy",
   "metadata": {},
   "source": [
    "Everything in `get` is constant time, so `get` is constant time. No\n",
    "problem.\n",
    "\n",
    "Now that we've classified `get`, we can classify `set`, which uses it.\n",
    "Here is our implementation of `set` from the previous exercise:"
   ]
  },
  {
   "cell_type": "code",
   "execution_count": null,
   "id": "wired-infrared",
   "metadata": {},
   "outputs": [],
   "source": [
    "public E set(int index, E element) {\n",
    "    E old = get(index);\n",
    "    array[index] = element;\n",
    "    return old;\n",
    "}"
   ]
  },
  {
   "cell_type": "markdown",
   "id": "divided-somalia",
   "metadata": {},
   "source": [
    "One slightly clever part of this solution is that it does not check the\n",
    "bounds of the array explicitly; it takes advantage of `get`, which\n",
    "raises an exception if the index is invalid.\n",
    "\n",
    "Everything in `set`, including the invocation of `get`, is constant\n",
    "time, so `set` is also constant time.\n",
    "\n",
    "Next we'll look at some linear methods. For example, here's my\n",
    "implementation of `indexOf`:"
   ]
  },
  {
   "cell_type": "code",
   "execution_count": null,
   "id": "incoming-messenger",
   "metadata": {},
   "outputs": [],
   "source": [
    "public int indexOf(Object target) {\n",
    "    for (int i = 0; i<size; i++) {\n",
    "        if (equals(target, array[i])) {\n",
    "            return i;\n",
    "        }\n",
    "    }\n",
    "    return -1;\n",
    "}"
   ]
  },
  {
   "cell_type": "markdown",
   "id": "separated-packet",
   "metadata": {},
   "source": [
    "Each time through the loop, `indexOf` invokes `equals`, so we have to\n",
    "classify `equals` first. Here it is:"
   ]
  },
  {
   "cell_type": "code",
   "execution_count": null,
   "id": "recreational-color",
   "metadata": {},
   "outputs": [],
   "source": [
    "private boolean equals(Object target, Object element) {\n",
    "    if (target == null) {\n",
    "        return element == null;\n",
    "    } else {\n",
    "        return target.equals(element);\n",
    "    }\n",
    "}"
   ]
  },
  {
   "cell_type": "markdown",
   "id": "informative-night",
   "metadata": {},
   "source": [
    "This method invokes `target.equals`; the runtime of this method might\n",
    "depend on the size of `target` or `element`, but it probably doesn't\n",
    "depend on the size of the array, so we consider it constant time for\n",
    "purposes of analyzing `indexOf`.\n",
    "\n",
    "Getting back to `indexOf`, everything inside the loop is constant time,\n",
    "so the next question we have to consider is: how many times does the\n",
    "loop execute?\n",
    "\n",
    "If we get lucky, we might find the target object right away and return\n",
    "after testing only one element. If we are unlucky, we might have to test\n",
    "all of the elements. On average, we expect to test half of the elements,\n",
    "so this method is considered linear (except in the unlikely case that we\n",
    "know the target element is at the beginning of the array).\n",
    "\n",
    "The analysis of `remove` is similar. Here's my implementation:"
   ]
  },
  {
   "cell_type": "code",
   "execution_count": null,
   "id": "falling-plain",
   "metadata": {},
   "outputs": [],
   "source": [
    "public E remove(int index) {\n",
    "    E element = get(index);\n",
    "    for (int i=index; i<size-1; i++) {\n",
    "        array[i] = array[i+1];\n",
    "    }\n",
    "    size--;\n",
    "    return element;\n",
    "}"
   ]
  },
  {
   "cell_type": "markdown",
   "id": "indoor-stadium",
   "metadata": {},
   "source": [
    "It uses `get`, which is constant time, and then loops through the array,\n",
    "starting from `index`. If we remove the element at the end of the list,\n",
    "the loop never runs and this method is constant time. If we remove the\n",
    "first element, we loop through all of the remaining elements, which is\n",
    "linear. So, again, this method is considered linear (except in the\n",
    "special case where we know the element is at the end or a constant\n",
    "distance from the end).\n",
    "\n",
    "## Classifying `add`\n",
    "\n",
    "Here's a version of `add` that takes an index and an element as\n",
    "parameters:"
   ]
  },
  {
   "cell_type": "code",
   "execution_count": null,
   "id": "lasting-coordinate",
   "metadata": {},
   "outputs": [],
   "source": [
    "public void add(int index, E element) {\n",
    "    if (index < 0 || index > size) {\n",
    "        throw new IndexOutOfBoundsException();\n",
    "    }\n",
    "    // add the element to get the resizing\n",
    "    add(element);\n",
    "    \n",
    "    // shift the other elements\n",
    "    for (int i=size-1; i>index; i--) {\n",
    "        array[i] = array[i-1];\n",
    "    }\n",
    "    // put the new one in the right place\n",
    "    array[index] = element;\n",
    "}"
   ]
  },
  {
   "cell_type": "markdown",
   "id": "associate-vancouver",
   "metadata": {},
   "source": [
    "This two-parameter version, called `add(int, E)`, uses the one-parameter\n",
    "version, called `add(E)`, which puts the new element at the end. Then it\n",
    "shifts the other elements to the right, and puts the new element in the\n",
    "correct place.\n",
    "\n",
    "Before we can classify the two-parameter `add(int, E)`, we have to\n",
    "classify the one-parameter `add(E)`:"
   ]
  },
  {
   "cell_type": "code",
   "execution_count": null,
   "id": "warming-anger",
   "metadata": {},
   "outputs": [],
   "source": [
    "public boolean add(E element) {\n",
    "    if (size >= array.length) {\n",
    "        // make a bigger array and copy over the elements\n",
    "        E[] bigger = (E[]) new Object[array.length * 2];\n",
    "        System.arraycopy(array, 0, bigger, 0, array.length);\n",
    "        array = bigger;\n",
    "    } \n",
    "    array[size] = element;\n",
    "    size++;\n",
    "    return true;\n",
    "}"
   ]
  },
  {
   "cell_type": "markdown",
   "id": "intellectual-mounting",
   "metadata": {},
   "source": [
    "The one-parameter version turns out to be hard to analyze. If there is\n",
    "an unused space in the array, it is constant time, but if we have to\n",
    "resize the array, it's linear because `System.arraycopy` takes time\n",
    "proportional to the size of the array.\n",
    "\n",
    "So is `add` constant time or linear? We can classify this method by\n",
    "thinking about the average number of operations per add over a series of\n",
    "$n$ adds. For simplicity, assume we start with an array that has room\n",
    "for 2 elements.\n",
    "\n",
    "-   The first time we call add, it finds unused space in the array, so\n",
    "    it stores 1 element.\n",
    "\n",
    "-   The second time, it finds unused space in the array, so it stores 1\n",
    "    element.\n",
    "\n",
    "-   The third time, we have to resize the array, copy 2 elements, and\n",
    "    store 1 element. Now the size of the array is 4.\n",
    "\n",
    "-   The fourth time stores 1 element.\n",
    "\n",
    "-   The fifth time resizes the array, copies 4 elements, and stores 1\n",
    "    element. Now the size of the array is 8.\n",
    "\n",
    "-   The next 3 adds store 3 elements.\n",
    "\n",
    "-   The next add copies 8 and stores 1. Now the size is 16.\n",
    "\n",
    "-   The next 7 adds store 7 elements.\n",
    "\n",
    "And so on. Adding things up:\n",
    "\n",
    "-   After 4 adds, we've stored 4 elements and copied 2.\n",
    "\n",
    "-   After 8 adds, we've stored 8 elements and copied 6.\n",
    "\n",
    "-   After 16 adds, we've stored 16 elements and copied 14.\n",
    "\n",
    "By now you should see the pattern: to do $n$ adds, we have to store $n$\n",
    "elements and copy $n-2$. So the total number of operations is\n",
    "$n + n - 2$, which is $2n-2$.\n",
    "\n",
    "To get the average number of operations per add, we divide the total by\n",
    "$n$; the result is $2 - 2/n$. As $n$ gets big, the second term, $2/n$,\n",
    "gets small. Invoking the principle that we only care about the largest\n",
    "exponent of $n$, we can think of `add` as constant time.\n",
    "\n",
    "It might seem strange that an algorithm that is sometimes linear can be\n",
    "constant time on average. The key is that we double the length of the\n",
    "array each time it gets resized. That limits the number of times each\n",
    "element gets copied. Otherwise --- if we add a fixed amount to the\n",
    "length of the array, rather than multiplying by a fixed amount --- the\n",
    "analysis doesn't work.\n",
    "\n",
    "This way of classifying an algorithm, by computing the average time in a\n",
    "series of invocations, is called **amortized analysis**. You can read\n",
    "more about it at <http://thinkdast.com/amort>. The key idea is that the\n",
    "extra cost of copying the array is spread, or \"amortized\", over a series\n",
    "of invocations.\n",
    "\n",
    "Now, if `add(E)` is constant time, what about `add(int, E)`? After\n",
    "calling `add(E)`, it loops through part of the array and shifts\n",
    "elements. This loop is linear, except in the special case where we are\n",
    "adding at the end of the list. So `add(int, E)` is linear.\n",
    "\n",
    "## Problem Size\n",
    "\n",
    "The last example we'll consider is `removeAll`; here's the\n",
    "implementation in `MyArrayList`:"
   ]
  },
  {
   "cell_type": "code",
   "execution_count": null,
   "id": "controlled-straight",
   "metadata": {},
   "outputs": [],
   "source": [
    "public boolean removeAll(Collection<?> collection) {\n",
    "    boolean flag = true;\n",
    "    for (Object obj: collection) {\n",
    "        flag &= remove(obj);\n",
    "    }\n",
    "    return flag;\n",
    "}"
   ]
  },
  {
   "cell_type": "markdown",
   "id": "printable-nowhere",
   "metadata": {},
   "source": [
    "Each time through the loop, `removeAll` invokes `remove`, which is\n",
    "linear. So it is tempting to think that `removeAll` is quadratic. But\n",
    "that's not necessarily the case.\n",
    "\n",
    "In this method, the loop runs once for each element in `collection`. If\n",
    "`collection` contains $m$ elements and the list we are removing from\n",
    "contains $n$ elements, this method is in $O(nm)$. If the size of\n",
    "`collection` can be considered constant, `removeAll` is linear with\n",
    "respect to $n$. But if the size of the collection is proportional to\n",
    "$n$, `removeAll` is quadratic. For example, if `collection` always\n",
    "contains 100 or fewer elements, `removeAll` is linear. But if\n",
    "`collection` generally contains 1% of the elements in the list,\n",
    "`removeAll` is quadratic.\n",
    "\n",
    "When we talk about **problem size**, we have to be careful about which\n",
    "size, or sizes, we are talking about. This example demonstrates a\n",
    "pitfall of algorithm analysis: the tempting shortcut of counting loops.\n",
    "If there is one loop, the algorithm is *often* linear. If there are two\n",
    "loops (one nested inside the other), the algorithm is *often* quadratic.\n",
    "But be careful! You have to think about how many times each loop runs.\n",
    "If the number of iterations is proportional to $n$ for all loops, you\n",
    "can get away with just counting the loops. But if, as in this example,\n",
    "the number of iterations is not always proportional to $n$, you have to\n",
    "give it more thought.\n",
    "\n",
    "## Linked Data Structures\n",
    "\n",
    "For the next exercise I provide a partial implementation of the `List`\n",
    "interface that uses a linked list to store the elements. If you are not\n",
    "familiar with linked lists, you can read about them at\n",
    "<http://thinkdast.com/linkedlist>, but this section provides a brief\n",
    "introduction.\n",
    "\n",
    "A data structure is \"linked\" if it is made up of objects, often called\n",
    "\"nodes\", that contain references to other nodes. In a linked *list*,\n",
    "each node contains a reference to the next node in the list. Other\n",
    "linked structures include trees and graphs, in which nodes can contain\n",
    "references to more than one other node.\n",
    "\n",
    "Here's a class definition for a simple node:"
   ]
  },
  {
   "cell_type": "code",
   "execution_count": null,
   "id": "studied-australia",
   "metadata": {},
   "outputs": [],
   "source": [
    "public class ListNode {\n",
    "\n",
    "    public Object data;\n",
    "    public ListNode next;\n",
    "\n",
    "    public ListNode() {\n",
    "        this.data = null;\n",
    "        this.next = null;\n",
    "    }\n",
    "\n",
    "    public ListNode(Object data) {\n",
    "        this.data = data;\n",
    "        this.next = null;\n",
    "    }\n",
    "\n",
    "    public ListNode(Object data, ListNode next) {\n",
    "        this.data = data;\n",
    "        this.next = next;\n",
    "    }\n",
    "\n",
    "    public String toString() {\n",
    "        return \"ListNode(\" + data.toString() + \")\";\n",
    "    }\n",
    "}"
   ]
  },
  {
   "cell_type": "markdown",
   "id": "stupid-cooling",
   "metadata": {},
   "source": [
    "The `ListNode` object has two instance variables: `data` is a reference\n",
    "to some kind of `Object`, and `next` is a reference to the next node in\n",
    "the list. In the last node in the list, by convention, `next` is `null`.\n",
    "\n",
    "`ListNode` provides several constructors, allowing you to provide values\n",
    "for `data` and `next`, or initialize them to the default value, `null`.\n",
    "\n",
    "You can think of each `ListNode` as a list with a single element, but\n",
    "more generally, a list can contain any number of nodes. There are\n",
    "several ways to make a new list. A simple option is to create a set of\n",
    "`ListNode` objects, like this:"
   ]
  },
  {
   "cell_type": "code",
   "execution_count": null,
   "id": "twelve-soldier",
   "metadata": {},
   "outputs": [],
   "source": [
    "ListNode node1 = new ListNode(1);\n",
    "ListNode node2 = new ListNode(2);\n",
    "ListNode node3 = new ListNode(3);"
   ]
  },
  {
   "cell_type": "markdown",
   "id": "funny-offense",
   "metadata": {},
   "source": [
    "And then link them up, like this:"
   ]
  },
  {
   "cell_type": "code",
   "execution_count": null,
   "id": "greatest-approach",
   "metadata": {},
   "outputs": [],
   "source": [
    "node1.next = node2;\n",
    "node2.next = node3;\n",
    "node3.next = null;"
   ]
  },
  {
   "cell_type": "markdown",
   "id": "ordinary-terminology",
   "metadata": {},
   "source": [
    "Alternatively, you can create a node and link it at the same time. For\n",
    "example, if you want to add a new node at the beginning of a list, you\n",
    "can do it like this:"
   ]
  },
  {
   "cell_type": "code",
   "execution_count": null,
   "id": "processed-former",
   "metadata": {},
   "outputs": [],
   "source": [
    "ListNode node0 = new ListNode(0, node1);"
   ]
  },
  {
   "cell_type": "markdown",
   "id": "driven-kansas",
   "metadata": {},
   "source": [
    "After this sequence of instructions, we have four nodes containing the\n",
    "`Integer`s 0, 1, 2, and 3 as data, linked up in increasing order. In the\n",
    "last node, the `next` field is `null`.\n",
    "\n",
    "![Object diagram of a linked list.](figs/linked_list1.pdf){width=\"4in\"}\n",
    "\n",
    "Figure [\\[linkedlistfig\\]](#linkedlistfig){reference-type=\"ref\"\n",
    "reference=\"linkedlistfig\"} is an object diagram that shows these\n",
    "variables and the objects they refer to. In an object diagram, variables\n",
    "appear as names inside boxes, with arrows that show what they refer to.\n",
    "Objects appear as boxes with their type on the outside (like `ListNode`\n",
    "and `Integer`) and their instance variables on the inside.\n",
    "\n",
    "## Exercise 3\n",
    "\n",
    "In the repository for this book, you'll find the source files you need\n",
    "for this exercise:\n",
    "\n",
    "-   `MyLinkedList.java` contains a partial implementation of the `List`\n",
    "    interface using a linked list to store the elements.\n",
    "\n",
    "-   `MyLinkedListTest.java` contains JUnit tests for `MyLinkedList`.\n",
    "\n",
    "Run `ant MyLinkedList` to run `MyLinkedList.java`, which contains a few\n",
    "simple tests.\n",
    "\n",
    "Then you can run `ant MyLinkedListTest` to run the JUnit tests. Several\n",
    "of them should fail. If you examine the source code, you'll find three\n",
    "`TODO` comments indicating the methods you should fill in.\n",
    "\n",
    "Before you start, let's walk through some of the code. Here are the\n",
    "instance variables and the constructor for `MyLinkedList`:"
   ]
  },
  {
   "cell_type": "code",
   "execution_count": null,
   "id": "naval-hotel",
   "metadata": {},
   "outputs": [],
   "source": [
    "public class MyLinkedList<E> implements List<E> {\n",
    "\n",
    "    private int size;            // keeps track of the number of elements\n",
    "    private Node head;           // reference to the first node\n",
    "\n",
    "    public MyLinkedList() {\n",
    "        head = null;\n",
    "        size = 0;\n",
    "    }\n",
    "}"
   ]
  },
  {
   "cell_type": "markdown",
   "id": "fantastic-parallel",
   "metadata": {},
   "source": [
    "As the comments indicate, `size` keeps track of how many elements are in\n",
    "`MyLinkedList`; `head` is a reference to the first `Node` in the list or\n",
    "`null` if the list is empty.\n",
    "\n",
    "Storing the number of elements is not necessary, and in general it is\n",
    "risky to keep redundant information, because if it's not updated\n",
    "correctly, it creates opportunities for error. It also takes a little\n",
    "bit of extra space.\n",
    "\n",
    "But if we store `size` explicitly, we can implement the `size` method in\n",
    "constant time; otherwise, we would have to traverse the list and count\n",
    "the elements, which requires linear time.\n",
    "\n",
    "Because we store `size` explicitly, we have to update it each time we\n",
    "add or remove an element, so that slows down those methods a little, but\n",
    "it doesn't change their order of growth, so it's probably worth it.\n",
    "\n",
    "The constructor sets `head` to `null`, which indicates an empty list,\n",
    "and sets `size` to 0.\n",
    "\n",
    "This class uses the type parameter `E` for the type of the elements. If\n",
    "you are not familiar with type parameters, you might want to read this\n",
    "tutorial: <http://thinkdast.com/types>.\n",
    "\n",
    "The type parameter also appears in the definition of `Node`, which is\n",
    "nested inside `MyLinkedList`:"
   ]
  },
  {
   "cell_type": "code",
   "execution_count": null,
   "id": "changing-nickname",
   "metadata": {},
   "outputs": [],
   "source": [
    "private class Node {\n",
    "    public E data;\n",
    "    public Node next;\n",
    "\n",
    "    public Node(E data, Node next) {\n",
    "        this.data = data;\n",
    "        this.next = next;\n",
    "    }\n",
    "}"
   ]
  },
  {
   "cell_type": "markdown",
   "id": "north-spanish",
   "metadata": {},
   "source": [
    "Other than that, `Node` is similar to `ListNode` above.\n",
    "\n",
    "Finally, here's my implementation of `add`:"
   ]
  },
  {
   "cell_type": "code",
   "execution_count": null,
   "id": "smooth-blackjack",
   "metadata": {},
   "outputs": [],
   "source": [
    "public boolean add(E element) {\n",
    "    if (head == null) {\n",
    "        head = new Node(element);\n",
    "    } else {\n",
    "        Node node = head;\n",
    "        // loop until the last node\n",
    "        for ( ; node.next != null; node = node.next) {}\n",
    "        node.next = new Node(element);\n",
    "    }\n",
    "    size++;\n",
    "    return true;\n",
    "}"
   ]
  },
  {
   "cell_type": "markdown",
   "id": "single-allergy",
   "metadata": {},
   "source": [
    "This example demonstrates two patterns you'll need for your solutions:\n",
    "\n",
    "1.  For many methods, we have to handle the first element of the list as\n",
    "    a special case. In this example, if we are adding the first element\n",
    "    of a list, we have to modify `head`. Otherwise, we traverse the\n",
    "    list, find the end, and add the new node.\n",
    "\n",
    "2.  This method shows how to use a `for` loop to traverse the nodes in a\n",
    "    list. In your solutions, you will probably write several variations\n",
    "    on this loop. Notice that we have to declare `node` before the loop\n",
    "    so we can access it after the loop.\n",
    "\n",
    "Now it's your turn. Fill in the body of `indexOf`. As usual, you should\n",
    "read the documentation, at <http://thinkdast.com/listindof>, so you know\n",
    "what it is supposed to do. In particular, notice how it's supposed to\n",
    "handle `null`.\n",
    "\n",
    "As in the previous exercise, I provide a helper method called `equals`\n",
    "that compares an element from the array to a target value and checks\n",
    "whether they are equal --- and it handles `null` correctly. This method\n",
    "is private because it is used inside this class but it is not part of\n",
    "the `List` interface.\n",
    "\n",
    "When you are done, run the tests again; `testIndexOf` should pass now,\n",
    "as well as the other tests that depend on it.\n",
    "\n",
    "Next, you should fill in the two-parameter version of `add`, which takes\n",
    "an index and stores the new value at the given index. Again, read the\n",
    "documentation at <http://thinkdast.com/listadd>, write an\n",
    "implementation, and run the tests for confirmation.\n",
    "\n",
    "Last one: fill in the body of `remove`. The documentation is here:\n",
    "<http://thinkdast.com/listrem>. When you finish this one, all tests\n",
    "should pass.\n",
    "\n",
    "Once you have your implementation working, compare it to the version in\n",
    "the `solution` directory of the repository.\n",
    "\n",
    "## A note on garbage collection\n",
    "\n",
    "In `MyArrayList` from the previous exercise, the array grows if\n",
    "necessary, but it never shrinks. The array never gets garbage collected,\n",
    "and the elements don't get garbage collected until the list itself is\n",
    "destroyed.\n",
    "\n",
    "One advantage of the linked list implementation is that it shrinks when\n",
    "elements are removed, and the unused nodes can get garbage collected\n",
    "immediately.\n",
    "\n",
    "Here is my implementation of the `clear` method:"
   ]
  },
  {
   "cell_type": "code",
   "execution_count": null,
   "id": "antique-journal",
   "metadata": {},
   "outputs": [],
   "source": [
    "public void clear() {\n",
    "    head = null;\n",
    "    size = 0;\n",
    "}"
   ]
  },
  {
   "cell_type": "markdown",
   "id": "sitting-three",
   "metadata": {},
   "source": [
    "When we set `head` to `null`, we remove a reference to the first `Node`.\n",
    "If there are no other references to that `Node` (and there shouldn't\n",
    "be), it will get garbage collected. At that point, the reference to the\n",
    "second `Node` is removed, so it gets garbage collected, too. This\n",
    "process continues until all nodes are collected.\n",
    "\n",
    "So how should we classify `clear`? The method itself contains two\n",
    "constant time operations, so it sure looks like it's constant time. But\n",
    "when you invoke it, you make the garbage collector do work that's\n",
    "proportional to the number of elements. So maybe we should consider it\n",
    "linear!\n",
    "\n",
    "This is an example of what is sometimes called a **performance bug**: a\n",
    "program that is correct in the sense that it does the right thing, but\n",
    "it doesn't belong to the order of growth we expected. In languages like\n",
    "Java that do a lot of work, like garbage collection, behind the scenes,\n",
    "this kind of bug can be hard to find."
   ]
  }
 ],
 "metadata": {},
 "nbformat": 4,
 "nbformat_minor": 5
}
