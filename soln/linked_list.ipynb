{
 "cells": [
  {
   "cell_type": "markdown",
   "id": "af0fce85",
   "metadata": {},
   "source": [
    "# Chapter xx"
   ]
  },
  {
   "cell_type": "markdown",
   "id": "c5ff28a0",
   "metadata": {
    "tags": [
     "remove-cell"
    ]
   },
   "source": [
    "*Data Structures and Information Retrieval in Python*\n",
    "\n",
    "Copyright 2021 Allen Downey\n",
    "\n",
    "License: [Creative Commons Attribution-NonCommercial-ShareAlike 4.0 International](https://creativecommons.org/licenses/by-nc-sa/4.0/)"
   ]
  },
  {
   "cell_type": "code",
   "execution_count": 120,
   "id": "9a28b6a7",
   "metadata": {
    "tags": [
     "remove-cell"
    ]
   },
   "outputs": [],
   "source": [
    "from os.path import basename, exists\n",
    "\n",
    "def download(url):\n",
    "    filename = basename(url)\n",
    "    if not exists(filename):\n",
    "        from urllib.request import urlretrieve\n",
    "        local, _ = urlretrieve(url, filename)\n",
    "        print('Downloaded ' + local)\n",
    "    \n",
    "# download('https://github.com/AllenDowney/DSIRP/raw/main/utils.py')"
   ]
  },
  {
   "cell_type": "markdown",
   "id": "c91bcf8f",
   "metadata": {},
   "source": [
    "[Click here to run this chapter on Colab](https://colab.research.google.com/github/AllenDowney/DSIRP/blob/main/chapters/chap01.ipynb)"
   ]
  },
  {
   "cell_type": "code",
   "execution_count": 121,
   "id": "fc0a60af",
   "metadata": {},
   "outputs": [],
   "source": [
    "class Node:\n",
    "    def __init__(self, data, next=None):\n",
    "        self.data = data\n",
    "        self.next = next"
   ]
  },
  {
   "cell_type": "code",
   "execution_count": 122,
   "id": "afd56106",
   "metadata": {},
   "outputs": [],
   "source": [
    "node1 = Node(1, None)"
   ]
  },
  {
   "cell_type": "code",
   "execution_count": 123,
   "id": "00b3fd6b",
   "metadata": {},
   "outputs": [],
   "source": [
    "def node_repr(node):\n",
    "    if node is None:\n",
    "        return 'None'\n",
    "    \n",
    "    rest = node_repr(node.next)\n",
    "    return f'Node({node.data}, {rest})'"
   ]
  },
  {
   "cell_type": "code",
   "execution_count": 124,
   "id": "bc9157d5",
   "metadata": {},
   "outputs": [
    {
     "data": {
      "text/plain": [
       "'Node(1, None)'"
      ]
     },
     "execution_count": 124,
     "metadata": {},
     "output_type": "execute_result"
    }
   ],
   "source": [
    "node_repr(node1)"
   ]
  },
  {
   "cell_type": "code",
   "execution_count": 125,
   "id": "b37af1eb",
   "metadata": {},
   "outputs": [],
   "source": [
    "Node.__repr__ = node_repr"
   ]
  },
  {
   "cell_type": "code",
   "execution_count": 126,
   "id": "8abf464f",
   "metadata": {},
   "outputs": [
    {
     "data": {
      "text/plain": [
       "Node(1, None)"
      ]
     },
     "execution_count": 126,
     "metadata": {},
     "output_type": "execute_result"
    }
   ],
   "source": [
    "node1"
   ]
  },
  {
   "cell_type": "code",
   "execution_count": 127,
   "id": "936b26b2",
   "metadata": {},
   "outputs": [],
   "source": [
    "node2 = Node(2)\n",
    "node3 = Node(3)"
   ]
  },
  {
   "cell_type": "markdown",
   "id": "fdfd0222",
   "metadata": {},
   "source": [
    "And then link them up, like this:"
   ]
  },
  {
   "cell_type": "code",
   "execution_count": 128,
   "id": "80748b5d",
   "metadata": {},
   "outputs": [],
   "source": [
    "node1.next = node2\n",
    "node2.next = node3"
   ]
  },
  {
   "cell_type": "code",
   "execution_count": 129,
   "id": "01e7bf4a",
   "metadata": {},
   "outputs": [
    {
     "data": {
      "text/plain": [
       "Node(1, Node(2, Node(3, None)))"
      ]
     },
     "execution_count": 129,
     "metadata": {},
     "output_type": "execute_result"
    }
   ],
   "source": [
    "node1"
   ]
  },
  {
   "cell_type": "code",
   "execution_count": 130,
   "id": "ccb38f09",
   "metadata": {},
   "outputs": [],
   "source": [
    "class List:\n",
    "    def __init__(self, head=None):\n",
    "        self.head = head"
   ]
  },
  {
   "cell_type": "code",
   "execution_count": 131,
   "id": "e90330d6",
   "metadata": {},
   "outputs": [
    {
     "data": {
      "text/plain": [
       "<__main__.List at 0x7fe7f028ac40>"
      ]
     },
     "execution_count": 131,
     "metadata": {},
     "output_type": "execute_result"
    }
   ],
   "source": [
    "t = List(node1)\n",
    "t"
   ]
  },
  {
   "cell_type": "code",
   "execution_count": 132,
   "id": "9a658b42",
   "metadata": {},
   "outputs": [],
   "source": [
    "def list_repr(node):\n",
    "    return f'List({node_repr(node.head)})'"
   ]
  },
  {
   "cell_type": "code",
   "execution_count": 133,
   "id": "ba922330",
   "metadata": {},
   "outputs": [
    {
     "data": {
      "text/plain": [
       "'List(Node(1, Node(2, Node(3, None))))'"
      ]
     },
     "execution_count": 133,
     "metadata": {},
     "output_type": "execute_result"
    }
   ],
   "source": [
    "list_repr(t)"
   ]
  },
  {
   "cell_type": "code",
   "execution_count": 134,
   "id": "1ac4e666",
   "metadata": {},
   "outputs": [],
   "source": [
    "List.__repr__ = list_repr"
   ]
  },
  {
   "cell_type": "code",
   "execution_count": 135,
   "id": "968f170e",
   "metadata": {},
   "outputs": [
    {
     "data": {
      "text/plain": [
       "List(Node(1, Node(2, Node(3, None))))"
      ]
     },
     "execution_count": 135,
     "metadata": {},
     "output_type": "execute_result"
    }
   ],
   "source": [
    "t"
   ]
  },
  {
   "cell_type": "markdown",
   "id": "d39866ab",
   "metadata": {},
   "source": [
    "## Search"
   ]
  },
  {
   "cell_type": "code",
   "execution_count": 136,
   "id": "a388ae4f",
   "metadata": {},
   "outputs": [],
   "source": [
    "def is_in(data, t):\n",
    "    node = t.head\n",
    "    while node:\n",
    "        if node.data == data:\n",
    "            return True\n",
    "        node = node.next\n",
    "    return False"
   ]
  },
  {
   "cell_type": "code",
   "execution_count": 137,
   "id": "67d32d91",
   "metadata": {},
   "outputs": [
    {
     "data": {
      "text/plain": [
       "(True, True, False)"
      ]
     },
     "execution_count": 137,
     "metadata": {},
     "output_type": "execute_result"
    }
   ],
   "source": [
    "is_in(1, t), is_in(3, t), is_in(5, t)"
   ]
  },
  {
   "cell_type": "code",
   "execution_count": 138,
   "id": "60be5087",
   "metadata": {},
   "outputs": [],
   "source": [
    "def is_in_helper(node, data):\n",
    "    if node is None:\n",
    "        return False\n",
    "    if node.data == data:\n",
    "        return True\n",
    "    return is_in_helper(node.next, data)\n",
    "\n",
    "def is_in(data, t):\n",
    "    return is_in_helper(t.head, data)"
   ]
  },
  {
   "cell_type": "code",
   "execution_count": 139,
   "id": "eaedf5a4",
   "metadata": {},
   "outputs": [
    {
     "data": {
      "text/plain": [
       "(True, True, False)"
      ]
     },
     "execution_count": 139,
     "metadata": {},
     "output_type": "execute_result"
    }
   ],
   "source": [
    "is_in(1, t), is_in(3, t), is_in(5, t)"
   ]
  },
  {
   "cell_type": "markdown",
   "id": "a5db5fe2",
   "metadata": {},
   "source": [
    "## Total"
   ]
  },
  {
   "cell_type": "code",
   "execution_count": 143,
   "id": "19080893",
   "metadata": {},
   "outputs": [],
   "source": [
    "def list_total(t):\n",
    "    total = 0\n",
    "    node = t.head\n",
    "    while node:\n",
    "        total += node.data\n",
    "        node = node.next\n",
    "    return total"
   ]
  },
  {
   "cell_type": "code",
   "execution_count": 144,
   "id": "1a03dc88",
   "metadata": {},
   "outputs": [
    {
     "data": {
      "text/plain": [
       "6"
      ]
     },
     "execution_count": 144,
     "metadata": {},
     "output_type": "execute_result"
    }
   ],
   "source": [
    "list_total(t)"
   ]
  },
  {
   "cell_type": "code",
   "execution_count": 145,
   "id": "8d457a21",
   "metadata": {},
   "outputs": [],
   "source": [
    "def list_total_helper(node):\n",
    "    if node is None:\n",
    "        return 0\n",
    "    return node.data + list_total_helper(node.next)\n",
    "\n",
    "def list_total(t):\n",
    "    return list_total_helper(t.head)"
   ]
  },
  {
   "cell_type": "code",
   "execution_count": 146,
   "id": "5219710f",
   "metadata": {},
   "outputs": [
    {
     "data": {
      "text/plain": [
       "6"
      ]
     },
     "execution_count": 146,
     "metadata": {},
     "output_type": "execute_result"
    }
   ],
   "source": [
    "list_total(t)"
   ]
  },
  {
   "cell_type": "markdown",
   "id": "fc487b02",
   "metadata": {},
   "source": [
    "## Push and Pop"
   ]
  },
  {
   "cell_type": "code",
   "execution_count": 164,
   "id": "3856bdae",
   "metadata": {},
   "outputs": [],
   "source": [
    "def push(t, node):\n",
    "    node.next = t.head\n",
    "    t.head = node"
   ]
  },
  {
   "cell_type": "code",
   "execution_count": 165,
   "id": "a9e4dc3e",
   "metadata": {},
   "outputs": [
    {
     "data": {
      "text/plain": [
       "List(Node(1, Node(2, Node(3, None))))"
      ]
     },
     "execution_count": 165,
     "metadata": {},
     "output_type": "execute_result"
    }
   ],
   "source": [
    "t = List()\n",
    "push(t, Node(3))\n",
    "push(t, Node(2))\n",
    "push(t, Node(1))\n",
    "t"
   ]
  },
  {
   "cell_type": "code",
   "execution_count": 166,
   "id": "c854f214",
   "metadata": {},
   "outputs": [],
   "source": [
    "def pop(t):\n",
    "    if t.head is None:\n",
    "        raise ValueError('Tried to pop from empty list')\n",
    "    data = t.head.data\n",
    "    t.head = t.head.next\n",
    "    return data"
   ]
  },
  {
   "cell_type": "code",
   "execution_count": 167,
   "id": "4b780d76",
   "metadata": {},
   "outputs": [
    {
     "data": {
      "text/plain": [
       "(1, 2, 3)"
      ]
     },
     "execution_count": 167,
     "metadata": {},
     "output_type": "execute_result"
    }
   ],
   "source": [
    "pop(t), pop(t), pop(t)"
   ]
  },
  {
   "cell_type": "code",
   "execution_count": 168,
   "id": "aa6cbc90",
   "metadata": {},
   "outputs": [
    {
     "data": {
      "text/plain": [
       "List(None)"
      ]
     },
     "execution_count": 168,
     "metadata": {},
     "output_type": "execute_result"
    }
   ],
   "source": [
    "t"
   ]
  },
  {
   "cell_type": "markdown",
   "id": "380a2b43",
   "metadata": {},
   "source": [
    "## Reverse\n",
    "\n",
    "Based on https://www.geeksforgeeks.org/reverse-a-linked-list/\n",
    "\n",
    "Simplest if you are allowed to allocate new Nodes"
   ]
  },
  {
   "cell_type": "code",
   "execution_count": 187,
   "id": "823d3500",
   "metadata": {},
   "outputs": [],
   "source": [
    "def reverse(t):\n",
    "    t2 = List()\n",
    "    node = t.head\n",
    "    while node:\n",
    "        push(t2, Node(node.data))\n",
    "        node = node.next\n",
    "\n",
    "    return t2"
   ]
  },
  {
   "cell_type": "code",
   "execution_count": 188,
   "id": "33ef0b45",
   "metadata": {},
   "outputs": [
    {
     "data": {
      "text/plain": [
       "List(Node(3, Node(2, Node(1, None))))"
      ]
     },
     "execution_count": 188,
     "metadata": {},
     "output_type": "execute_result"
    }
   ],
   "source": [
    "t = List(Node(1, Node(2, Node(3, None))))\n",
    "reverse(t)"
   ]
  },
  {
   "cell_type": "markdown",
   "id": "a0bf47dd",
   "metadata": {},
   "source": [
    "This one allocates an array and a List, but it reuses the Node objects"
   ]
  },
  {
   "cell_type": "code",
   "execution_count": 178,
   "id": "76027e4f",
   "metadata": {},
   "outputs": [],
   "source": [
    "def reverse(t):\n",
    "    queue = []\n",
    "    node = t.head\n",
    "    while node:\n",
    "        queue.append(node)\n",
    "        node = node.next\n",
    "\n",
    "    t2 = List()\n",
    "    for node in queue:\n",
    "        push(t2, node)\n",
    "        \n",
    "    t.head = t2.head"
   ]
  },
  {
   "cell_type": "code",
   "execution_count": 179,
   "id": "efe1402d",
   "metadata": {},
   "outputs": [
    {
     "data": {
      "text/plain": [
       "List(Node(3, Node(2, Node(1, None))))"
      ]
     },
     "execution_count": 179,
     "metadata": {},
     "output_type": "execute_result"
    }
   ],
   "source": [
    "t = List(Node(1, Node(2, Node(3, None))))\n",
    "reverse(t)\n",
    "t"
   ]
  },
  {
   "cell_type": "markdown",
   "id": "65797cdd",
   "metadata": {},
   "source": [
    "Here's a recursive version that doesn't allocate anything"
   ]
  },
  {
   "cell_type": "code",
   "execution_count": 182,
   "id": "2f2ce359",
   "metadata": {},
   "outputs": [],
   "source": [
    "def reverse_helper(node):\n",
    " \n",
    "    # if there are 0 or 1 nodes\n",
    "    if node is None or node.next is None:\n",
    "        return node\n",
    "\n",
    "    # reverse the rest list\n",
    "    rest = reverse_helper(node.next)\n",
    "\n",
    "    # Put first element at the end\n",
    "    node.next.next = node\n",
    "    node.next = None\n",
    "\n",
    "    return rest\n",
    "\n",
    "def reverse(t):\n",
    "    t.head = reverse_helper(t.head)"
   ]
  },
  {
   "cell_type": "code",
   "execution_count": 183,
   "id": "bd006a83",
   "metadata": {},
   "outputs": [
    {
     "data": {
      "text/plain": [
       "List(Node(3, Node(2, Node(1, None))))"
      ]
     },
     "execution_count": 183,
     "metadata": {},
     "output_type": "execute_result"
    }
   ],
   "source": [
    "t = List(Node(1, Node(2, Node(3, None))))\n",
    "reverse(t)\n",
    "t"
   ]
  },
  {
   "cell_type": "markdown",
   "id": "d64bc802",
   "metadata": {},
   "source": [
    "And finally an iterative version that doesn't allocate anything."
   ]
  },
  {
   "cell_type": "code",
   "execution_count": 180,
   "id": "c6c1cb6a",
   "metadata": {},
   "outputs": [],
   "source": [
    "def reverse(t):\n",
    "    prev = None\n",
    "    current = t.head\n",
    "    while current :\n",
    "        next = current.next\n",
    "        current.next = prev\n",
    "        prev = current\n",
    "        current = next\n",
    "    t.head = prev"
   ]
  },
  {
   "cell_type": "markdown",
   "id": "c0419f5f",
   "metadata": {},
   "source": [
    "## Remove"
   ]
  },
  {
   "cell_type": "code",
   "execution_count": 191,
   "id": "bd866786",
   "metadata": {},
   "outputs": [],
   "source": [
    "def remove_after(node):\n",
    "    node.next = node.next.next"
   ]
  },
  {
   "cell_type": "code",
   "execution_count": 192,
   "id": "cebe3faf",
   "metadata": {},
   "outputs": [
    {
     "data": {
      "text/plain": [
       "List(Node(1, Node(3, None)))"
      ]
     },
     "execution_count": 192,
     "metadata": {},
     "output_type": "execute_result"
    }
   ],
   "source": [
    "t = List(Node(1, Node(2, Node(3, None))))\n",
    "remove_after(t.head)\n",
    "t"
   ]
  },
  {
   "cell_type": "code",
   "execution_count": 200,
   "id": "99f76f95",
   "metadata": {},
   "outputs": [],
   "source": [
    "def remove(t, data):\n",
    "    if t.head is None:\n",
    "        raise ValueError('Tried to remove from an empty list')\n",
    "        \n",
    "    node = t.head\n",
    "    if node.data == data:\n",
    "        t.head = node.next\n",
    "        return\n",
    "\n",
    "    while node.next:\n",
    "        if node.next.data == data:\n",
    "            remove_after(node)\n",
    "            return\n",
    "        node = node.next\n",
    "        \n",
    "    raise ValueError('Value not found')"
   ]
  },
  {
   "cell_type": "code",
   "execution_count": 208,
   "id": "6201a889",
   "metadata": {},
   "outputs": [
    {
     "data": {
      "text/plain": [
       "List(Node(1, Node(3, None)))"
      ]
     },
     "execution_count": 208,
     "metadata": {},
     "output_type": "execute_result"
    }
   ],
   "source": [
    "t = List(Node(1, Node(2, Node(3, None))))\n",
    "remove(t, 2)\n",
    "t"
   ]
  },
  {
   "cell_type": "code",
   "execution_count": 209,
   "id": "d001ec5e",
   "metadata": {},
   "outputs": [
    {
     "data": {
      "text/plain": [
       "List(Node(3, None))"
      ]
     },
     "execution_count": 209,
     "metadata": {},
     "output_type": "execute_result"
    }
   ],
   "source": [
    "remove(t, 1)\n",
    "t"
   ]
  },
  {
   "cell_type": "code",
   "execution_count": 210,
   "id": "a936a447",
   "metadata": {},
   "outputs": [
    {
     "name": "stdout",
     "output_type": "stream",
     "text": [
      "Value not found\n"
     ]
    }
   ],
   "source": [
    "try:\n",
    "    remove(t, 4)\n",
    "except ValueError as e:\n",
    "    print(e)"
   ]
  },
  {
   "cell_type": "code",
   "execution_count": 211,
   "id": "d28dad10",
   "metadata": {},
   "outputs": [
    {
     "data": {
      "text/plain": [
       "List(None)"
      ]
     },
     "execution_count": 211,
     "metadata": {},
     "output_type": "execute_result"
    }
   ],
   "source": [
    "remove(t, 3)\n",
    "t"
   ]
  },
  {
   "cell_type": "code",
   "execution_count": 212,
   "id": "0d31c7e4",
   "metadata": {},
   "outputs": [
    {
     "name": "stdout",
     "output_type": "stream",
     "text": [
      "Tried to remove from an empty list\n"
     ]
    }
   ],
   "source": [
    "try:\n",
    "    remove(t, 5)\n",
    "except ValueError as e:\n",
    "    print(e)"
   ]
  },
  {
   "cell_type": "markdown",
   "id": "fb34020f",
   "metadata": {},
   "source": [
    "## Insert Sorted"
   ]
  },
  {
   "cell_type": "code",
   "execution_count": 213,
   "id": "92b42835",
   "metadata": {},
   "outputs": [],
   "source": [
    "def insert_after(node, data):\n",
    "    node.next = Node(data, node.next)"
   ]
  },
  {
   "cell_type": "code",
   "execution_count": 214,
   "id": "02658e60",
   "metadata": {},
   "outputs": [
    {
     "data": {
      "text/plain": [
       "List(Node(1, Node(5, Node(2, Node(3, None)))))"
      ]
     },
     "execution_count": 214,
     "metadata": {},
     "output_type": "execute_result"
    }
   ],
   "source": [
    "t = List(Node(1, Node(2, Node(3, None))))\n",
    "insert_after(t.head, 5)\n",
    "t"
   ]
  },
  {
   "cell_type": "code",
   "execution_count": 230,
   "id": "a24ba00a",
   "metadata": {},
   "outputs": [],
   "source": [
    "def insert_sorted(t, data):\n",
    "    if t.head is None or t.head.data > data:\n",
    "        push(t, Node(data))\n",
    "        return\n",
    "    \n",
    "    node = t.head\n",
    "    while node.next:\n",
    "        if node.next.data > data:\n",
    "            insert_after(node, data)\n",
    "            return\n",
    "        node = node.next\n",
    "    \n",
    "    insert_after(node, data)"
   ]
  },
  {
   "cell_type": "code",
   "execution_count": 231,
   "id": "7cc9e6e8",
   "metadata": {},
   "outputs": [
    {
     "data": {
      "text/plain": [
       "List(Node(1, None))"
      ]
     },
     "execution_count": 231,
     "metadata": {},
     "output_type": "execute_result"
    }
   ],
   "source": [
    "t = List()\n",
    "insert_sorted(t, 1)\n",
    "t"
   ]
  },
  {
   "cell_type": "code",
   "execution_count": 232,
   "id": "2983dc0a",
   "metadata": {},
   "outputs": [
    {
     "data": {
      "text/plain": [
       "List(Node(1, Node(3, None)))"
      ]
     },
     "execution_count": 232,
     "metadata": {},
     "output_type": "execute_result"
    }
   ],
   "source": [
    "insert_sorted(t, 3)\n",
    "t"
   ]
  },
  {
   "cell_type": "code",
   "execution_count": 233,
   "id": "bfe0c7ce",
   "metadata": {},
   "outputs": [
    {
     "data": {
      "text/plain": [
       "List(Node(0, Node(1, Node(3, None))))"
      ]
     },
     "execution_count": 233,
     "metadata": {},
     "output_type": "execute_result"
    }
   ],
   "source": [
    "insert_sorted(t, 0)\n",
    "t"
   ]
  },
  {
   "cell_type": "code",
   "execution_count": 234,
   "id": "5a6943ed",
   "metadata": {},
   "outputs": [
    {
     "data": {
      "text/plain": [
       "List(Node(0, Node(1, Node(2, Node(3, None)))))"
      ]
     },
     "execution_count": 234,
     "metadata": {},
     "output_type": "execute_result"
    }
   ],
   "source": [
    "insert_sorted(t, 2)\n",
    "t"
   ]
  },
  {
   "cell_type": "code",
   "execution_count": null,
   "id": "76665b56",
   "metadata": {},
   "outputs": [],
   "source": []
  }
 ],
 "metadata": {
  "kernelspec": {
   "display_name": "Python 3",
   "language": "python",
   "name": "python3"
  },
  "language_info": {
   "codemirror_mode": {
    "name": "ipython",
    "version": 3
   },
   "file_extension": ".py",
   "mimetype": "text/x-python",
   "name": "python",
   "nbconvert_exporter": "python",
   "pygments_lexer": "ipython3",
   "version": "3.9.4"
  }
 },
 "nbformat": 4,
 "nbformat_minor": 5
}
