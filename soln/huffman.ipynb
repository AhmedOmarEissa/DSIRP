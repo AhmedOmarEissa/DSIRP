{
 "cells": [
  {
   "cell_type": "markdown",
   "metadata": {},
   "source": [
    "# Chapter xx"
   ]
  },
  {
   "cell_type": "markdown",
   "metadata": {},
   "source": [
    "*Data Structures and Information Retrieval in Python*\n",
    "\n",
    "Copyright 2021 Allen Downey\n",
    "\n",
    "License: [Creative Commons Attribution-NonCommercial-ShareAlike 4.0 International](https://creativecommons.org/licenses/by-nc-sa/4.0/)"
   ]
  },
  {
   "cell_type": "markdown",
   "metadata": {},
   "source": [
    "## Priority Queue\n",
    "\n",
    "A priority queue is similar to a queue in the sense that the primary operations are adding and removing elements.\n",
    "The difference is the \"queue discipline\", which determines which element you get when you remove one.\n",
    "In queue, the discipline is FIFO, which means that when you remove an element, you get the one that was added first.\n",
    "\n",
    "In a priority queue, the element you get is the one with the highest \"priority\", which is the one that comes first in the sort ordering of the elements.\n",
    "For example, if the elements are strings, the element you get is the one that comes first in alphabetical order.\n",
    "If the elements are numerical, you get the one with the lowest numerical value.\n",
    "\n",
    "You can infer from this description that the element in the heap have to be ordered.\n",
    "If they are not, you can get some strange behavior.\n",
    "\n",
    "Possibly the simplest way to implement a priority queue is a list with the following two functions:\n",
    "\n",
    "* `push:` Appends a new element to the end of the list.\n",
    "\n",
    "* `pop`: Searches the list for the \"smallest\" element, removes it, and returns it.\n",
    "\n",
    "In this implementation, we expect `push` to take constant time, but `pop` would take linear time.\n",
    "\n",
    "We can get better performance, at least in the sense of asymptotic time, using a [heap](https://en.wikipedia.org/wiki/Heap_(data_structure)).\n",
    "A heap is a binary tree that has the \"heap property\": if a node `P` is a parent of another node `C`, the value of `P` must come before the value of `C` in the sort order.\n",
    "This property guarantees that the root of the tree contains the value that comes first in sort order.\n",
    "\n",
    "This property suggests that can can find the element with highest priority in constant time, and that's true, but that doesn't mean we can implement `pop` in constant time, because when we remove the root node, we are left with two trees, and we have to do some work to join them into a single tree that has the heap property.\n",
    "\n",
    "Similarly, when we add a new node to a heap, we have to do some work to add it in a way that restores the heap property.\n",
    "In both cases, this additional work takes time proportional to the height of the tree.\n",
    "And if we can guarantee that the tree is sufficiently bushy, the height is proportional to $\\log n$, where $n$ is the number of elements in the tree."
   ]
  },
  {
   "cell_type": "markdown",
   "metadata": {},
   "source": [
    "Later, we'll implement a heap, and we'll see where these performance results come from.\n",
    "But we'll start by using an implementation in the standard Python library, `heapq`.\n",
    "\n",
    "`heapq` provides the following functions:\n",
    "\n",
    "* `heapify`, which takes a list of elements and creates a heap.\n",
    "\n",
    "* `heappush`, which adds a new element to a heap.\n",
    "\n",
    "* `heappop`, which removes and returns the element in the heap with highest priority.\n",
    "\n",
    "Rather than use these functions directly, we will wrap them in a class called `Heap` that provides a more object-oriented interface."
   ]
  },
  {
   "cell_type": "code",
   "execution_count": 30,
   "metadata": {},
   "outputs": [],
   "source": [
    "import heapq\n",
    "\n",
    "class Heap(list):\n",
    "    \"\"\"This is a wrapper class for the heap functions provided\n",
    "    by the heapq module.\n",
    "    \"\"\"\n",
    "    __slots__ = ()\n",
    "    \n",
    "    def __init__(self, t=[]):\n",
    "        \"\"\"Create a new heap.\"\"\"\n",
    "        self.extend(t)\n",
    "        self.heapify()\n",
    "\n",
    "    push = lambda x,y: heapq.heappush(x, y)\n",
    "    pop = lambda x: heapq.heappop(x)\n",
    "    pushpop = lambda x,y: heapq.heappushpop(x, y)\n",
    "    replace = lambda x: heapq.heapreplace(x)\n",
    "    heapify = lambda x: heapq.heapify(x)\n",
    "\n",
    "    def generator(self):\n",
    "        \"\"\"Iterate through the items destructively\"\"\"\n",
    "        while self:\n",
    "            yield self.popmin()\n",
    "\n",
    "    def reduce(self, pos, newitem):\n",
    "        \"Replace self[pos] with a lower value item and then reheapify\"\n",
    "        while pos > 0:\n",
    "            parentpos = (pos - 1) >> 1\n",
    "            parent = self[parentpos]\n",
    "            if parent <= newitem:\n",
    "                break\n",
    "            self[pos] = parent\n",
    "            pos = parentpos\n",
    "        self[pos] = newitem\n",
    "\n",
    "    def is_heap(self):\n",
    "        \"Return True if the heap has the heap property; False otherwise\"\n",
    "        n = len(self)\n",
    "        # The largest index there's any point to looking at\n",
    "        # is the largest with a child index in-range, so must have 2*i + 1 < n,\n",
    "        # or i < (n-1)/2.  If n is even = 2*j, this is (2*j-1)/2 = j-1/2 so\n",
    "        # j-1 is the largest, which is n//2 - 1.  If n is odd = 2*j+1, this is\n",
    "        # (2*j+1-1)/2 = j so j-1 is the largest, and that's again n//2-1.\n",
    "        try:\n",
    "            for i in range(n//2):\n",
    "                if self[i] > self[2*i+1]: return False\n",
    "                if self[i] > self[2*i+2]: return False\n",
    "        except IndexError:\n",
    "            pass\n",
    "        return True\n",
    "        \n",
    "\n",
    "def heapsort(iterable):\n",
    "    return [x for x in Heap(iterable).generator()]"
   ]
  },
  {
   "cell_type": "code",
   "execution_count": 31,
   "metadata": {},
   "outputs": [
    {
     "data": {
      "text/plain": [
       "[11, 14, 15, 7, 8, 2, 3, 12, 14, 15, 13, 14, 10, 7, 8]"
      ]
     },
     "execution_count": 31,
     "metadata": {},
     "output_type": "execute_result"
    }
   ],
   "source": [
    "from random import randint, shuffle\n",
    "\n",
    "# generate a random test case\n",
    "n = 15\n",
    "data = [randint(1,n) for i in range(n)]\n",
    "shuffle(data)\n",
    "data"
   ]
  },
  {
   "cell_type": "code",
   "execution_count": 32,
   "metadata": {},
   "outputs": [
    {
     "name": "stdout",
     "output_type": "stream",
     "text": [
      "[2, 7, 3, 12, 8, 10, 7, 14, 14, 15, 13, 14, 15, 11, 8]\n"
     ]
    }
   ],
   "source": [
    "# test the constructor\n",
    "heap = Heap(data)\n",
    "print(heap)"
   ]
  },
  {
   "cell_type": "code",
   "execution_count": 33,
   "metadata": {},
   "outputs": [],
   "source": [
    "assert heap.is_heap()"
   ]
  },
  {
   "cell_type": "code",
   "execution_count": 34,
   "metadata": {},
   "outputs": [],
   "source": [
    "# test popmin\n",
    "t = []\n",
    "while heap:\n",
    "    t.append(heap.popmin())\n",
    "\n",
    "assert t == sorted(data)"
   ]
  },
  {
   "cell_type": "code",
   "execution_count": 35,
   "metadata": {},
   "outputs": [
    {
     "name": "stdout",
     "output_type": "stream",
     "text": [
      "[2, 3, 7, 10, 7, 8, 8, 13, 11, 15, 14, 12, 15, 14, 14]\n"
     ]
    }
   ],
   "source": [
    "# test 2\n",
    "shuffle(data)\n",
    "\n",
    "# test push\n",
    "heap = Heap()\n",
    "for item in data:\n",
    "    heap.push(item)\n",
    "    \n",
    "assert heap.is_heap()\n",
    "print(heap)"
   ]
  },
  {
   "cell_type": "code",
   "execution_count": 36,
   "metadata": {},
   "outputs": [],
   "source": [
    "# test 3\n",
    "shuffle(data)\n",
    "heap = Heap(data)\n",
    "\n",
    "# test reduce\n",
    "for i in range(5):\n",
    "    pos = randint(0,n-1)\n",
    "    decr = randint(1,10)\n",
    "    item = heap[pos] - decr\n",
    "    heap.reduce(pos, item)\n",
    "    \n",
    "assert heap.is_heap()"
   ]
  },
  {
   "cell_type": "code",
   "execution_count": 40,
   "metadata": {},
   "outputs": [],
   "source": [
    "t = heapsort(data)\n",
    "assert t == sorted(data)"
   ]
  },
  {
   "cell_type": "markdown",
   "metadata": {},
   "source": [
    "## Huffman Code"
   ]
  },
  {
   "cell_type": "code",
   "execution_count": 41,
   "metadata": {},
   "outputs": [],
   "source": [
    "text = 'this is an example of a huffman tree'"
   ]
  },
  {
   "cell_type": "code",
   "execution_count": null,
   "metadata": {},
   "outputs": [],
   "source": [
    "from collections import Counter\n",
    "\n",
    "c = Counter(text)\n",
    "c"
   ]
  },
  {
   "cell_type": "code",
   "execution_count": 54,
   "metadata": {},
   "outputs": [],
   "source": [
    "from collections import namedtuple\n",
    "\n",
    "Node = namedtuple('Node', ['count', 'letter', 'left', 'right'])"
   ]
  },
  {
   "cell_type": "code",
   "execution_count": 57,
   "metadata": {},
   "outputs": [
    {
     "data": {
      "text/plain": [
       "Node(count=0, letter='a', left=None, right=None)"
      ]
     },
     "execution_count": 57,
     "metadata": {},
     "output_type": "execute_result"
    }
   ],
   "source": [
    "Node(0, 'a', None, None)"
   ]
  },
  {
   "cell_type": "code",
   "execution_count": 102,
   "metadata": {},
   "outputs": [
    {
     "data": {
      "text/plain": [
       "[Node(count=7, letter=' ', left=None, right=None),\n",
       " Node(count=4, letter='a', left=None, right=None),\n",
       " Node(count=4, letter='e', left=None, right=None),\n",
       " Node(count=3, letter='f', left=None, right=None),\n",
       " Node(count=2, letter='t', left=None, right=None),\n",
       " Node(count=2, letter='h', left=None, right=None),\n",
       " Node(count=2, letter='i', left=None, right=None),\n",
       " Node(count=2, letter='s', left=None, right=None),\n",
       " Node(count=2, letter='n', left=None, right=None),\n",
       " Node(count=2, letter='m', left=None, right=None),\n",
       " Node(count=1, letter='x', left=None, right=None),\n",
       " Node(count=1, letter='p', left=None, right=None),\n",
       " Node(count=1, letter='l', left=None, right=None),\n",
       " Node(count=1, letter='o', left=None, right=None),\n",
       " Node(count=1, letter='u', left=None, right=None),\n",
       " Node(count=1, letter='r', left=None, right=None)]"
      ]
     },
     "execution_count": 102,
     "metadata": {},
     "output_type": "execute_result"
    }
   ],
   "source": [
    "nodes = [Node(count, letter, None, None) for (letter, count) in c.most_common()]\n",
    "nodes"
   ]
  },
  {
   "cell_type": "code",
   "execution_count": 107,
   "metadata": {},
   "outputs": [
    {
     "data": {
      "text/plain": [
       "[Node(count=1, letter='l', left=None, right=None),\n",
       " Node(count=1, letter='r', left=None, right=None),\n",
       " Node(count=1, letter='o', left=None, right=None),\n",
       " Node(count=2, letter='n', left=None, right=None),\n",
       " Node(count=1, letter='x', left=None, right=None),\n",
       " Node(count=1, letter='p', left=None, right=None),\n",
       " Node(count=1, letter='u', left=None, right=None),\n",
       " Node(count=2, letter='s', left=None, right=None),\n",
       " Node(count=4, letter='a', left=None, right=None),\n",
       " Node(count=2, letter='m', left=None, right=None),\n",
       " Node(count=2, letter='t', left=None, right=None),\n",
       " Node(count=4, letter='e', left=None, right=None),\n",
       " Node(count=2, letter='h', left=None, right=None),\n",
       " Node(count=2, letter='i', left=None, right=None),\n",
       " Node(count=7, letter=' ', left=None, right=None),\n",
       " Node(count=3, letter='f', left=None, right=None)]"
      ]
     },
     "execution_count": 107,
     "metadata": {},
     "output_type": "execute_result"
    }
   ],
   "source": [
    "heap = Heap(nodes)\n",
    "heap"
   ]
  },
  {
   "cell_type": "code",
   "execution_count": null,
   "metadata": {},
   "outputs": [],
   "source": []
  },
  {
   "cell_type": "code",
   "execution_count": 108,
   "metadata": {},
   "outputs": [],
   "source": [
    "def make_tree(heap):\n",
    "    while len(heap) > 1:\n",
    "        left = heap.popmin()\n",
    "        right = heap.popmin()\n",
    "        count = left.count + right.count\n",
    "        node = Node(count, '\\0', left, right)\n",
    "        heap.push(node)\n",
    "        \n",
    "    return heap.popmin()"
   ]
  },
  {
   "cell_type": "code",
   "execution_count": 109,
   "metadata": {},
   "outputs": [],
   "source": [
    "tree = make_tree(heap)"
   ]
  },
  {
   "cell_type": "code",
   "execution_count": 141,
   "metadata": {},
   "outputs": [],
   "source": [
    "def make_table(tree, path, table):\n",
    "    if tree is None:\n",
    "        return\n",
    "    \n",
    "    if tree.letter != '\\0':\n",
    "        table[tree.letter] = path\n",
    "        return\n",
    "    \n",
    "    make_table(tree.left, path+'0', table)\n",
    "    make_table(tree.right, path+'1', table)"
   ]
  },
  {
   "cell_type": "code",
   "execution_count": 142,
   "metadata": {},
   "outputs": [],
   "source": [
    "table = {}\n",
    "make_table(tree, '', table)"
   ]
  },
  {
   "cell_type": "code",
   "execution_count": 143,
   "metadata": {},
   "outputs": [
    {
     "data": {
      "text/plain": [
       "{'l': '00000',\n",
       " 'o': '00001',\n",
       " 'p': '00010',\n",
       " 'r': '00011',\n",
       " 'u': '00100',\n",
       " 'x': '00101',\n",
       " 'h': '0011',\n",
       " 'i': '0100',\n",
       " 'm': '0101',\n",
       " 'n': '0110',\n",
       " 's': '0111',\n",
       " 'a': '100',\n",
       " 'e': '101',\n",
       " 't': '1100',\n",
       " 'f': '1101',\n",
       " ' ': '111'}"
      ]
     },
     "execution_count": 143,
     "metadata": {},
     "output_type": "execute_result"
    }
   ],
   "source": [
    "table"
   ]
  },
  {
   "cell_type": "code",
   "execution_count": 144,
   "metadata": {},
   "outputs": [],
   "source": [
    "def encode(s, table):\n",
    "    t = [table[letter] for letter in s]\n",
    "    return ''.join(t)"
   ]
  },
  {
   "cell_type": "code",
   "execution_count": 159,
   "metadata": {},
   "outputs": [
    {
     "data": {
      "text/plain": [
       "'1100001101000111111010001111110111000100100011010000000111110010000010'"
      ]
     },
     "execution_count": 159,
     "metadata": {},
     "output_type": "execute_result"
    }
   ],
   "source": [
    "code = encode('this is spinal tap',table)\n",
    "code"
   ]
  },
  {
   "cell_type": "code",
   "execution_count": 160,
   "metadata": {},
   "outputs": [],
   "source": [
    "def decode(s, tree):\n",
    "    result = []\n",
    "    node = tree\n",
    "    for c in s:\n",
    "        if c == '0':\n",
    "            node = node.left\n",
    "        else:\n",
    "            node = node.right\n",
    "            \n",
    "        if node.letter != '\\0':\n",
    "            result.append(node.letter)\n",
    "            node = tree\n",
    "            \n",
    "    return ''.join(result)"
   ]
  },
  {
   "cell_type": "code",
   "execution_count": 161,
   "metadata": {},
   "outputs": [
    {
     "data": {
      "text/plain": [
       "'this is spinal tap'"
      ]
     },
     "execution_count": 161,
     "metadata": {},
     "output_type": "execute_result"
    }
   ],
   "source": [
    "decode(code, tree)"
   ]
  },
  {
   "cell_type": "code",
   "execution_count": null,
   "metadata": {},
   "outputs": [],
   "source": []
  }
 ],
 "metadata": {
  "kernelspec": {
   "display_name": "Python 3",
   "language": "python",
   "name": "python3"
  },
  "language_info": {
   "codemirror_mode": {
    "name": "ipython",
    "version": 3
   },
   "file_extension": ".py",
   "mimetype": "text/x-python",
   "name": "python",
   "nbconvert_exporter": "python",
   "pygments_lexer": "ipython3",
   "version": "3.9.4"
  }
 },
 "nbformat": 4,
 "nbformat_minor": 1
}
