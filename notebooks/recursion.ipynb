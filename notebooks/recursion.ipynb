{
 "cells": [
  {
   "cell_type": "markdown",
   "id": "af0fce85",
   "metadata": {},
   "source": [
    "# Recursion"
   ]
  },
  {
   "cell_type": "markdown",
   "id": "c5ff28a0",
   "metadata": {
    "tags": []
   },
   "source": [
    "*Data Structures and Information Retrieval in Python*\n",
    "\n",
    "Copyright 2021 Allen Downey\n",
    "\n",
    "License: [Creative Commons Attribution-NonCommercial-ShareAlike 4.0 International](https://creativecommons.org/licenses/by-nc-sa/4.0/)"
   ]
  },
  {
   "cell_type": "markdown",
   "id": "c91bcf8f",
   "metadata": {},
   "source": [
    "[Click here to run this chapter on Colab](https://colab.research.google.com/github/AllenDowney/DSIRP/blob/main/notebooks/recursion.ipynb)"
   ]
  },
  {
   "cell_type": "markdown",
   "id": "3c45976d",
   "metadata": {},
   "source": [
    "## Example 1\n",
    "\n",
    "Here's an example of recursion from [this section of Think Python](https://greenteapress.com/thinkpython2/html/thinkpython2006.html#sec62)."
   ]
  },
  {
   "cell_type": "code",
   "execution_count": 25,
   "id": "680f0927",
   "metadata": {
    "tags": []
   },
   "outputs": [],
   "source": []
  },
  {
   "cell_type": "code",
   "execution_count": 26,
   "id": "ca1913c3",
   "metadata": {
    "tags": []
   },
   "outputs": [],
   "source": []
  },
  {
   "cell_type": "markdown",
   "id": "ea41dc06",
   "metadata": {},
   "source": [
    "To understand recursion, it's important to have a good mental model of what happens when you run a function:\n",
    "\n",
    "1. Python interprets the arguments.\n",
    "\n",
    "2. It creates a stack frame, which will contain the parameters and local variables.\n",
    "\n",
    "3. Next it assigns the values of the arguments to the parameters.\n",
    "\n",
    "4. Python runs the body of the function.\n",
    "\n",
    "5. Then it recycles the stack frame.\n",
    "\n",
    "The runtime stack contains the stack frames of currently-running functions."
   ]
  },
  {
   "cell_type": "markdown",
   "id": "13be8c33",
   "metadata": {},
   "source": [
    "Here's the stack diagram to show what happens when this `countdown` runs.\n",
    "\n",
    "<img src=\"https://greenteapress.com/thinkpython2/html/thinkpython2005.png\">"
   ]
  },
  {
   "cell_type": "markdown",
   "id": "d3656030",
   "metadata": {},
   "source": [
    "**Exercise:** What happens if you run countdown with a negative number?  [See here for more info]()"
   ]
  },
  {
   "cell_type": "code",
   "execution_count": 1,
   "id": "926b7e09",
   "metadata": {},
   "outputs": [],
   "source": []
  },
  {
   "cell_type": "markdown",
   "id": "65453461",
   "metadata": {},
   "source": [
    "## Example 2\n",
    "\n",
    "Here's an example of recursion with a function that returns a value, from [this section of Think Python](https://greenteapress.com/thinkpython2/html/thinkpython2007.html#sec74)."
   ]
  },
  {
   "cell_type": "code",
   "execution_count": 3,
   "id": "05f2cbae",
   "metadata": {
    "tags": []
   },
   "outputs": [],
   "source": []
  },
  {
   "cell_type": "code",
   "execution_count": 4,
   "id": "4b28a55a",
   "metadata": {
    "tags": []
   },
   "outputs": [],
   "source": []
  },
  {
   "cell_type": "markdown",
   "id": "9cc1dd56",
   "metadata": {},
   "source": [
    "Here's the stack frame."
   ]
  },
  {
   "cell_type": "markdown",
   "id": "05dab401",
   "metadata": {},
   "source": [
    "<img src=\"https://greenteapress.com/thinkpython2/html/thinkpython2007.png\">"
   ]
  },
  {
   "cell_type": "markdown",
   "id": "5501bd21",
   "metadata": {},
   "source": [
    "**Exercise:** Suppose you want to raise a number, `x`, to an integer power, `k`. An efficient way to do that is:\n",
    "\n",
    "* If `k` is even, raise `n` to `k/2` and square it.\n",
    "\n",
    "* If `k` is odd, raise `n` to `(k-1)/2`, square it, and multiply by `x` one more time.\n",
    "\n",
    "Write a recursive function that implements this algorithm."
   ]
  },
  {
   "cell_type": "code",
   "execution_count": 41,
   "id": "c4efae39",
   "metadata": {},
   "outputs": [],
   "source": []
  },
  {
   "cell_type": "code",
   "execution_count": 42,
   "id": "305c176f",
   "metadata": {},
   "outputs": [],
   "source": []
  },
  {
   "cell_type": "code",
   "execution_count": 43,
   "id": "1d537011",
   "metadata": {},
   "outputs": [],
   "source": []
  },
  {
   "cell_type": "markdown",
   "id": "52f8ff4a",
   "metadata": {},
   "source": [
    "What is the order of growth of this algorithm?\n",
    "To keep it simple, suppose `k` is a power of two.\n",
    "How many times do we have to divide `k` by two before we get to 1?\n",
    "\n",
    "Thinking about it in reverse, starting with 1, how many times do we have to double 1 before we get to `k`? In math notation, the question is\n",
    "\n",
    "$$2^y = k$$\n",
    "\n",
    "where `y` is the unknown number of steps. Taking the log of both sides, base 2:\n",
    "\n",
    "$$y = log_2 k$$\n",
    "\n",
    "In terms of order of growth, this algorithm is in `O(log k)`. We don't have to specify the base of the logarithm, because a log in one base is a constant multiple of a log in any other base."
   ]
  },
  {
   "cell_type": "markdown",
   "id": "2b004c03",
   "metadata": {},
   "source": [
    "## Example 3\n",
    "\n",
    "Here's another example of recursion from [this section of Think Python](https://greenteapress.com/thinkpython2/html/thinkpython2007.html#sec76)."
   ]
  },
  {
   "cell_type": "code",
   "execution_count": 7,
   "id": "6e0b79eb",
   "metadata": {
    "tags": []
   },
   "outputs": [],
   "source": []
  },
  {
   "cell_type": "code",
   "execution_count": 8,
   "id": "d049364c",
   "metadata": {
    "tags": []
   },
   "outputs": [],
   "source": []
  },
  {
   "cell_type": "markdown",
   "id": "b1155ff9",
   "metadata": {},
   "source": [
    "Here's a stack graph that shows all stack frames created during this function call.\n",
    "\n",
    "Note that these frames are not all on the stack at the same time."
   ]
  },
  {
   "cell_type": "markdown",
   "id": "fbb61c50",
   "metadata": {},
   "source": [
    "<img src=\"https://greenteapress.com/thinkpython2/html/thinkpython2017.png\">"
   ]
  },
  {
   "cell_type": "markdown",
   "id": "365ece74",
   "metadata": {},
   "source": [
    "Here's the [section from Think Python](https://greenteapress.com/thinkpython2/html/thinkpython2012.html#sec135) that shows how we can make fibonacci faster by \"memoizing\" it. That's not a typo; the word is really [memoize](https://en.wikipedia.org/wiki/Memoization)."
   ]
  },
  {
   "cell_type": "code",
   "execution_count": 9,
   "id": "200c66d3",
   "metadata": {
    "tags": []
   },
   "outputs": [],
   "source": []
  },
  {
   "cell_type": "code",
   "execution_count": 50,
   "id": "da2c92b5",
   "metadata": {
    "tags": []
   },
   "outputs": [],
   "source": []
  },
  {
   "cell_type": "markdown",
   "id": "af40054a",
   "metadata": {},
   "source": [
    "**Exercise:** The [Ackermann function](http://en.wikipedia.org/wiki/Ackermann_function), $A(m, n)$, is defined:\n",
    "\n",
    "$$\n",
    "A(m, n) = \\begin{cases} \n",
    "              n+1 & \\mbox{if } m = 0 \\\\ \n",
    "        A(m-1, 1) & \\mbox{if } m > 0 \\mbox{ and } n = 0 \\\\ \n",
    "A(m-1, A(m, n-1)) & \\mbox{if } m > 0 \\mbox{ and } n > 0.\n",
    "\\end{cases} \n",
    "$$\n",
    "\n",
    "Write a function named `ackermann` that evaluates the Ackermann function.\n",
    "Use your function to evaluate `ackermann(3, 4)`, which should be 125.\n",
    "\n",
    "What happens for larger values of `m` and `n`?\n",
    "\n",
    "If you memoize it, can you evaluate the function with bigger values? "
   ]
  },
  {
   "cell_type": "code",
   "execution_count": 47,
   "id": "cb5278e3",
   "metadata": {},
   "outputs": [],
   "source": []
  },
  {
   "cell_type": "code",
   "execution_count": 65,
   "id": "f9b3e242",
   "metadata": {},
   "outputs": [],
   "source": []
  },
  {
   "cell_type": "code",
   "execution_count": 51,
   "id": "55a561a7",
   "metadata": {},
   "outputs": [],
   "source": []
  },
  {
   "cell_type": "code",
   "execution_count": 66,
   "id": "a38fbc58",
   "metadata": {},
   "outputs": [],
   "source": []
  },
  {
   "cell_type": "markdown",
   "id": "fd5c67a1",
   "metadata": {},
   "source": [
    "## String functions\n",
    "\n",
    "Many things we do iteratively can be expressed recursively as well."
   ]
  },
  {
   "cell_type": "code",
   "execution_count": 2,
   "id": "ceea0cb3",
   "metadata": {
    "tags": []
   },
   "outputs": [],
   "source": []
  },
  {
   "cell_type": "code",
   "execution_count": 3,
   "id": "7f033242",
   "metadata": {
    "tags": []
   },
   "outputs": [],
   "source": []
  },
  {
   "cell_type": "markdown",
   "id": "2b69c809",
   "metadata": {},
   "source": [
    "For sequences and mapping types, there's usually no advantage of the recursive version. But for trees and graphs, a recursive implementation can be clearer, more concise, and more demonstrably correct."
   ]
  },
  {
   "cell_type": "markdown",
   "id": "39577761",
   "metadata": {},
   "source": [
    "**Exercise:** Here's an exercise from, of all places, [StackOverflow](https://stackoverflow.com/questions/28977737/writing-a-recursive-string-function):\n",
    "\n",
    "> Write a recursive, string-valued function, `replace`, that accepts a string and returns a new string consisting of the original string with each blank replaced with an asterisk (*) \n",
    ">\n",
    "> Replacing the blanks in a string involves:\n",
    ">\n",
    "> 1. Nothing if the string is empty\n",
    ">\n",
    "> 2. Otherwise: If the first character is not a blank, simply concatenate it with the result of replacing the rest of the string\n",
    ">\n",
    "> 3. If the first character IS a blank, concatenate an * with the result of replacing the rest of the string\n"
   ]
  },
  {
   "cell_type": "code",
   "execution_count": 6,
   "id": "4f5bb31b",
   "metadata": {},
   "outputs": [],
   "source": []
  },
  {
   "cell_type": "code",
   "execution_count": 8,
   "id": "061ea9ee",
   "metadata": {},
   "outputs": [],
   "source": []
  },
  {
   "cell_type": "markdown",
   "id": "0596803c",
   "metadata": {},
   "source": [
    "**Exercise:** Here's one of my favorite Car Talk Puzzlers (http://www.cartalk.com/content/puzzlers):\n",
    "\n",
    ">What is the longest English word, that remains a valid English word, as you remove its letters one at a time?\n",
    ">\n",
    ">Now, letters can be removed from either end, or the middle, but you can’t rearrange any of the letters. Every time you drop a letter, you wind up with another English word. If you do that, you’re eventually going to wind up with one letter and that too is going to be an English word—one that’s found in the dictionary. I want to know what’s the longest word and how many letters does it have?\n",
    ">\n",
    ">I’m going to give you a little modest example: Sprite. Ok? You start off with sprite, you take a letter off, one from the interior of the word, take the r away, and we’re left with the word spite, then we take the e off the end, we’re left with spit, we take the s off, we’re left with pit, it, and I. \n",
    "\n",
    "Write a program to find all words that can be reduced in this way, and then find the longest one.\n",
    "\n",
    "This exercise is a little more challenging than most, so here are some suggestions:\n",
    "\n",
    "* You might want to write a function that takes a word and computes a list of all the words that can be formed by removing one letter. These are the “children” of the word.\n",
    "    \n",
    "* Recursively, a word is reducible if any of its children are reducible. As base cases, you can consider the single letter words “I”, “a” to be reducible.\n",
    "    \n",
    "* To improve the performance of your program, you might want to memoize the words that are known to be reducible."
   ]
  },
  {
   "cell_type": "code",
   "execution_count": 9,
   "id": "2a6a1f2c",
   "metadata": {},
   "outputs": [],
   "source": [
    "from os.path import basename, exists\n",
    "\n",
    "def download(url):\n",
    "    filename = basename(url)\n",
    "    if not exists(filename):\n",
    "        from urllib.request import urlretrieve\n",
    "        local, _ = urlretrieve(url, filename)\n",
    "        print('Downloaded ' + local)\n",
    "    \n",
    "download('https://github.com/AllenDowney/DSIRP/raw/main/american-english')"
   ]
  },
  {
   "cell_type": "code",
   "execution_count": 10,
   "id": "b1abe9e3",
   "metadata": {},
   "outputs": [],
   "source": [
    "def read_words(filename):\n",
    "    \"\"\"Read lines from a file and split them into words.\"\"\"\n",
    "    res = set()\n",
    "    for line in open(filename):\n",
    "        for word in line.split():\n",
    "            res.add(word.strip().lower())\n",
    "    return res"
   ]
  },
  {
   "cell_type": "code",
   "execution_count": 11,
   "id": "07100ed0",
   "metadata": {},
   "outputs": [],
   "source": [
    "word_set = read_words('american-english')\n",
    "len(word_set)"
   ]
  },
  {
   "cell_type": "code",
   "execution_count": 16,
   "id": "1e8ecbff",
   "metadata": {},
   "outputs": [],
   "source": []
  },
  {
   "cell_type": "code",
   "execution_count": 17,
   "id": "17ffca66",
   "metadata": {},
   "outputs": [],
   "source": []
  },
  {
   "cell_type": "code",
   "execution_count": 18,
   "id": "142591b4",
   "metadata": {
    "tags": []
   },
   "outputs": [],
   "source": []
  },
  {
   "cell_type": "code",
   "execution_count": 19,
   "id": "b0764433",
   "metadata": {
    "tags": []
   },
   "outputs": [],
   "source": []
  },
  {
   "cell_type": "code",
   "execution_count": 20,
   "id": "af0a7034",
   "metadata": {
    "tags": []
   },
   "outputs": [],
   "source": []
  },
  {
   "cell_type": "code",
   "execution_count": 21,
   "id": "234ac5fa",
   "metadata": {
    "tags": []
   },
   "outputs": [],
   "source": []
  },
  {
   "cell_type": "code",
   "execution_count": 22,
   "id": "aac76078",
   "metadata": {
    "tags": []
   },
   "outputs": [],
   "source": []
  },
  {
   "cell_type": "code",
   "execution_count": 12,
   "id": "dba9471b",
   "metadata": {},
   "outputs": [],
   "source": []
  },
  {
   "cell_type": "code",
   "execution_count": null,
   "id": "d0eeebfa",
   "metadata": {},
   "outputs": [],
   "source": []
  }
 ],
 "metadata": {
  "celltoolbar": "Tags",
  "kernelspec": {
   "display_name": "Python 3",
   "language": "python",
   "name": "python3"
  },
  "language_info": {
   "codemirror_mode": {
    "name": "ipython",
    "version": 3
   },
   "file_extension": ".py",
   "mimetype": "text/x-python",
   "name": "python",
   "nbconvert_exporter": "python",
   "pygments_lexer": "ipython3",
   "version": "3.9.4"
  }
 },
 "nbformat": 4,
 "nbformat_minor": 5
}
