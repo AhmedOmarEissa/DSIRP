{
 "cells": [
  {
   "cell_type": "markdown",
   "id": "af0fce85",
   "metadata": {},
   "source": [
    "# Deque"
   ]
  },
  {
   "cell_type": "markdown",
   "id": "c5ff28a0",
   "metadata": {
    "tags": []
   },
   "source": [
    "*Data Structures and Information Retrieval in Python*\n",
    "\n",
    "Copyright 2021 Allen Downey\n",
    "\n",
    "License: [Creative Commons Attribution-NonCommercial-ShareAlike 4.0 International](https://creativecommons.org/licenses/by-nc-sa/4.0/)"
   ]
  },
  {
   "cell_type": "markdown",
   "id": "c91bcf8f",
   "metadata": {},
   "source": [
    "[Click here to run this chapter on Colab](https://colab.research.google.com/github/AllenDowney/DSIRP/blob/main/chapters/deque.ipynb)"
   ]
  },
  {
   "cell_type": "markdown",
   "id": "394c2889",
   "metadata": {},
   "source": [
    "## Double-ended Queue\n",
    "\n",
    "With Python lists, we can add and remove elements from the *end* of the list in constant time, but adding and removing from the beginning takes linear time.\n",
    "That's because Python lists are implemented using arrays that grow dynamically. \n",
    "\n",
    "With linked lists, we can add and remove elements from the *beginning* of the list in constant time, but adding and removing from the end takes linear time.\n",
    "\n",
    "With either of these implementations, it is easy to make a stack, that is, a collection where the first element we add is the last element we remove. A stack is also called a \"first-in, last-out\" queue, abbreviated FILO.\n",
    "\n",
    "But it is not easy to implement a \"first-in, first-out\" queue, that is, a collection where the first element we add is the *first* element we remove.\n",
    "\n",
    "Fortunately, there are ways to implement lists that can add and remove elements from both ends in constant time.\n",
    "A collection that has this property is called a double-ended queue, abbreviated \"deque\" and pronounced like \"deck\".\n",
    "\n",
    "One way to implement a deque is a doubly-linked list, also known as a \"head-tail linked list\".\n",
    "Each node in a doubly-linked list has a reference to the previous node in the list as well as the next element, which I will call `left` and `right`.\n"
   ]
  },
  {
   "cell_type": "code",
   "execution_count": 1,
   "id": "c3eda892",
   "metadata": {},
   "outputs": [],
   "source": [
    "class Node:\n",
    "    def __init__(self, data, left=None, right=None):\n",
    "        self.data = data\n",
    "        self.left = left\n",
    "        self.right = right\n",
    "        \n",
    "    def __repr__(self):\n",
    "        return f'Node({self.data})'"
   ]
  },
  {
   "cell_type": "markdown",
   "id": "bbf5ad6f",
   "metadata": {},
   "source": [
    "We can create nodes like this:"
   ]
  },
  {
   "cell_type": "code",
   "execution_count": 2,
   "id": "3eb18535",
   "metadata": {
    "tags": []
   },
   "outputs": [],
   "source": []
  },
  {
   "cell_type": "markdown",
   "id": "fdfd0222",
   "metadata": {},
   "source": [
    "And then link them up, like this:"
   ]
  },
  {
   "cell_type": "code",
   "execution_count": 3,
   "id": "80748b5d",
   "metadata": {
    "tags": []
   },
   "outputs": [],
   "source": []
  },
  {
   "cell_type": "markdown",
   "id": "5f7ef6db",
   "metadata": {},
   "source": [
    "To traverse the list from left to right, we can start at the beginning and follow the `right` links."
   ]
  },
  {
   "cell_type": "code",
   "execution_count": 4,
   "id": "d2d34a16",
   "metadata": {},
   "outputs": [],
   "source": [
    "node = node1\n",
    "while node:\n",
    "    print(node)\n",
    "    node = node.right"
   ]
  },
  {
   "cell_type": "markdown",
   "id": "0a4e6e10",
   "metadata": {},
   "source": [
    "To traverse from right to left, we start and the end and follow the `left` links."
   ]
  },
  {
   "cell_type": "code",
   "execution_count": 5,
   "id": "c876e5d2",
   "metadata": {},
   "outputs": [],
   "source": [
    "node = node3\n",
    "while node:\n",
    "    print(node)\n",
    "    node = node.left"
   ]
  },
  {
   "cell_type": "markdown",
   "id": "f21575f6",
   "metadata": {},
   "source": [
    "## Deque objects\n",
    "\n",
    "For some operations, it will be convenient to have another object that represents the whole list (as opposed to one of its nodes).\n",
    "\n",
    "Here's the class definition."
   ]
  },
  {
   "cell_type": "code",
   "execution_count": 6,
   "id": "f1c32da2",
   "metadata": {},
   "outputs": [],
   "source": [
    "class Deque:\n",
    "    def __init__(self, head=None, tail=None):\n",
    "        self.head = head\n",
    "        self.tail = tail\n",
    "        \n",
    "    def __repr__(self):\n",
    "        return f'LinkedList({self.head}, {self.tail})'"
   ]
  },
  {
   "cell_type": "markdown",
   "id": "c41fb536",
   "metadata": {},
   "source": [
    "Now we can create a `Deque` with references to `node1` and `node3`:"
   ]
  },
  {
   "cell_type": "code",
   "execution_count": 7,
   "id": "f8def755",
   "metadata": {
    "tags": []
   },
   "outputs": [],
   "source": []
  },
  {
   "cell_type": "markdown",
   "id": "477a172f",
   "metadata": {},
   "source": [
    "For debugging purposes, I'll use the following function, which prints the list from right to left and then left to right, which confirms that all of the links are correct."
   ]
  },
  {
   "cell_type": "code",
   "execution_count": 8,
   "id": "093eed5a",
   "metadata": {},
   "outputs": [],
   "source": [
    "def print_deque(deque):\n",
    "    node = deque.head\n",
    "    while node:\n",
    "        print(node.data, end=', ')\n",
    "        node = node.right\n",
    "    print()\n",
    "    \n",
    "    node = deque.tail\n",
    "    while node:\n",
    "        print(node.data, end=', ')\n",
    "        node = node.left\n",
    "    print()"
   ]
  },
  {
   "cell_type": "markdown",
   "id": "b7d3b504",
   "metadata": {},
   "source": [
    "Here's an example."
   ]
  },
  {
   "cell_type": "code",
   "execution_count": 9,
   "id": "3e6e8976",
   "metadata": {},
   "outputs": [],
   "source": [
    "print_deque(deque)"
   ]
  },
  {
   "cell_type": "markdown",
   "id": "44af708a",
   "metadata": {},
   "source": [
    "## Push\n",
    "\n",
    "Now let's see how we can add and remove elements from the beginning and end in constant time.\n",
    "We'll start with the push operations.\n",
    "\n",
    "If we start with an empty deque, adding the first node is a special case, so I'll pull that into a function."
   ]
  },
  {
   "cell_type": "code",
   "execution_count": 10,
   "id": "7b522c71",
   "metadata": {
    "tags": []
   },
   "outputs": [],
   "source": []
  },
  {
   "cell_type": "markdown",
   "id": "f4ed4e59",
   "metadata": {},
   "source": [
    "Here's an example."
   ]
  },
  {
   "cell_type": "code",
   "execution_count": 11,
   "id": "9ee37b46",
   "metadata": {
    "tags": []
   },
   "outputs": [],
   "source": []
  },
  {
   "cell_type": "markdown",
   "id": "d662a875",
   "metadata": {},
   "source": [
    "**Exercise:**  Write `left_push`, which takes a `Deque` object and a new value, and adds the value to the beginning of the deque.\n",
    "\n",
    "If the queue is empty, it should call `push_first` to handle the special case; otherwise it should handle the general case."
   ]
  },
  {
   "cell_type": "code",
   "execution_count": 12,
   "id": "541d2764",
   "metadata": {},
   "outputs": [],
   "source": []
  },
  {
   "cell_type": "markdown",
   "id": "3aa3c753",
   "metadata": {},
   "source": [
    "You can use the following examples to test your function:"
   ]
  },
  {
   "cell_type": "code",
   "execution_count": 13,
   "id": "42de4306",
   "metadata": {},
   "outputs": [],
   "source": [
    "deque = Deque()\n",
    "left_push(deque, 2)\n",
    "print_deque(deque)"
   ]
  },
  {
   "cell_type": "code",
   "execution_count": 14,
   "id": "4810822a",
   "metadata": {},
   "outputs": [],
   "source": [
    "left_push(deque, 1)\n",
    "print_deque(deque)"
   ]
  },
  {
   "cell_type": "markdown",
   "id": "45aa0fd0",
   "metadata": {},
   "source": [
    "**Exercise:**  Write `right_push`, which takes a `Deque` object and a new value, and adds the value to the end of the deque.\n",
    "\n",
    "If the queue is empty, it should call `push_first` to handle the special case; otherwise it should handle the general case."
   ]
  },
  {
   "cell_type": "code",
   "execution_count": 15,
   "id": "091cf27c",
   "metadata": {},
   "outputs": [],
   "source": []
  },
  {
   "cell_type": "markdown",
   "id": "bc6ed29a",
   "metadata": {},
   "source": [
    "You can use the following examples to test your function:"
   ]
  },
  {
   "cell_type": "code",
   "execution_count": 16,
   "id": "aab491f8",
   "metadata": {},
   "outputs": [],
   "source": [
    "deque = Deque()\n",
    "right_push(deque, 3)\n",
    "print_deque(deque)"
   ]
  },
  {
   "cell_type": "code",
   "execution_count": 17,
   "id": "23ac16de",
   "metadata": {},
   "outputs": [],
   "source": [
    "right_push(deque, 4)\n",
    "print_deque(deque)"
   ]
  },
  {
   "cell_type": "markdown",
   "id": "82eaab11",
   "metadata": {},
   "source": [
    "## Pop\n",
    "\n",
    "To pop elements from the deque, we have to handle two special cases:\n",
    "\n",
    "* If `head` and `tail` are both `None`, the deque is empty and we should raise a `ValueError`.\n",
    "\n",
    "* If `head` and `tail` refer to the same `Node`, there is only one element, so we should remove it and leave the deque empty.\n",
    "\n",
    "The following function handles these cases."
   ]
  },
  {
   "cell_type": "code",
   "execution_count": 18,
   "id": "0830b88e",
   "metadata": {
    "tags": []
   },
   "outputs": [],
   "source": []
  },
  {
   "cell_type": "markdown",
   "id": "940e8edc",
   "metadata": {},
   "source": [
    "We can test it like this:"
   ]
  },
  {
   "cell_type": "code",
   "execution_count": 19,
   "id": "0691725c",
   "metadata": {
    "tags": []
   },
   "outputs": [],
   "source": []
  },
  {
   "cell_type": "code",
   "execution_count": 20,
   "id": "20da79e2",
   "metadata": {
    "tags": []
   },
   "outputs": [],
   "source": []
  },
  {
   "cell_type": "markdown",
   "id": "ebc1692b",
   "metadata": {},
   "source": [
    "**Exercise:**  Write `left_pop`, which takes a `Deque` object, remove the first node, and return the first data value.\n",
    "\n",
    "If the queue is empty or has a single element, it should call `pop_last` to handle the special case; otherwise it should handle the general case."
   ]
  },
  {
   "cell_type": "code",
   "execution_count": 21,
   "id": "4a6d6869",
   "metadata": {},
   "outputs": [],
   "source": []
  },
  {
   "cell_type": "markdown",
   "id": "03468ac4",
   "metadata": {},
   "source": [
    "You can use the following example to test your code."
   ]
  },
  {
   "cell_type": "code",
   "execution_count": 22,
   "id": "e598b176",
   "metadata": {},
   "outputs": [],
   "source": [
    "deque = Deque()\n",
    "right_push(deque, 1)\n",
    "right_push(deque, 2)\n",
    "left_pop(deque)"
   ]
  },
  {
   "cell_type": "code",
   "execution_count": 23,
   "id": "40c86ff1",
   "metadata": {},
   "outputs": [],
   "source": [
    "left_pop(deque)"
   ]
  },
  {
   "cell_type": "code",
   "execution_count": 24,
   "id": "e0f844f6",
   "metadata": {},
   "outputs": [],
   "source": [
    "try:\n",
    "    left_pop(deque)\n",
    "except ValueError as e:\n",
    "    print(e)"
   ]
  },
  {
   "cell_type": "markdown",
   "id": "88deca23",
   "metadata": {},
   "source": [
    "**Exercise:**  Write `right_pop`, which takes a `Deque` object, remove the last node, and return the last data value.\n",
    "\n",
    "If the queue is empty or has a single element, it should call `pop_last` to handle the special case; otherwise it should handle the general case."
   ]
  },
  {
   "cell_type": "code",
   "execution_count": 25,
   "id": "860a382c",
   "metadata": {},
   "outputs": [],
   "source": []
  },
  {
   "cell_type": "markdown",
   "id": "c7b334c9",
   "metadata": {},
   "source": [
    "You can use the following examples to test your function."
   ]
  },
  {
   "cell_type": "code",
   "execution_count": 26,
   "id": "b2835265",
   "metadata": {},
   "outputs": [],
   "source": [
    "deque = Deque()\n",
    "right_push(deque, 1)\n",
    "right_push(deque, 2)\n",
    "print(deque)"
   ]
  },
  {
   "cell_type": "code",
   "execution_count": 27,
   "id": "6c8ebc83",
   "metadata": {},
   "outputs": [],
   "source": [
    "right_pop(deque)"
   ]
  },
  {
   "cell_type": "code",
   "execution_count": 28,
   "id": "7babe42f",
   "metadata": {},
   "outputs": [],
   "source": [
    "right_pop(deque)"
   ]
  },
  {
   "cell_type": "code",
   "execution_count": 29,
   "id": "e60721f0",
   "metadata": {},
   "outputs": [],
   "source": [
    "try:\n",
    "    right_pop(deque)\n",
    "except ValueError as e:\n",
    "    print(e)"
   ]
  },
  {
   "cell_type": "markdown",
   "id": "9d2b4613",
   "metadata": {},
   "source": [
    "## collections.deque\n",
    "\n",
    "The Python collections module provides an implementation of a deque.\n",
    "You can read the \n",
    "[documentation here](https://docs.python.org/3/library/collections.html#collections.deque)\n",
    "and the\n",
    "[source code here](https://github.com/python/cpython/blob/d943d19172aa93ce88bade15b9f23a0ce3bc72ff/Modules/_collectionsmodule.c).\n",
    "\n",
    "To confirm that it can add and remove elements from the beginning and end in constant time, let's run some timing tests."
   ]
  },
  {
   "cell_type": "code",
   "execution_count": 30,
   "id": "e64ad043",
   "metadata": {},
   "outputs": [],
   "source": [
    "from os.path import basename, exists\n",
    "\n",
    "def download(url):\n",
    "    filename = basename(url)\n",
    "    if not exists(filename):\n",
    "        from urllib.request import urlretrieve\n",
    "        local, _ = urlretrieve(url, filename)\n",
    "        print('Downloaded ' + local)\n",
    "    \n",
    "download('https://github.com/AllenDowney/DSIRP/raw/main/timing.py')"
   ]
  },
  {
   "cell_type": "code",
   "execution_count": 31,
   "id": "2639ce10",
   "metadata": {},
   "outputs": [],
   "source": [
    "from collections import deque\n",
    "\n",
    "def appendleft(n):\n",
    "    d = deque()\n",
    "    [d.appendleft(x) for x in range(n)]"
   ]
  },
  {
   "cell_type": "code",
   "execution_count": 32,
   "id": "56a4f4d9",
   "metadata": {},
   "outputs": [],
   "source": [
    "def popleft(n):\n",
    "    d = deque()\n",
    "    [d.appendleft(x) for x in range(n)]    \n",
    "    [d.popleft() for _ in range(n)]"
   ]
  },
  {
   "cell_type": "code",
   "execution_count": 33,
   "id": "01d7b585",
   "metadata": {},
   "outputs": [],
   "source": [
    "from timing import run_timing_test\n",
    "\n",
    "ns, ts = run_timing_test(appendleft)"
   ]
  },
  {
   "cell_type": "code",
   "execution_count": 34,
   "id": "c574a469",
   "metadata": {},
   "outputs": [],
   "source": [
    "from timing import plot_timing_test\n",
    "\n",
    "plot_timing_test(ns, ts, scale='linear')"
   ]
  },
  {
   "cell_type": "markdown",
   "id": "1f2576f1",
   "metadata": {},
   "source": [
    "Running these operations `n` times is linear in `n`, which means that each one is constant time, at least on average."
   ]
  },
  {
   "cell_type": "markdown",
   "id": "411a5e25",
   "metadata": {},
   "source": [
    "**Exercise:** Modify the examples above to confirm that `append` and `pop` are also constant time."
   ]
  },
  {
   "cell_type": "code",
   "execution_count": null,
   "id": "ca741d09",
   "metadata": {},
   "outputs": [],
   "source": []
  }
 ],
 "metadata": {
  "celltoolbar": "Tags",
  "kernelspec": {
   "display_name": "Python 3",
   "language": "python",
   "name": "python3"
  },
  "language_info": {
   "codemirror_mode": {
    "name": "ipython",
    "version": 3
   },
   "file_extension": ".py",
   "mimetype": "text/x-python",
   "name": "python",
   "nbconvert_exporter": "python",
   "pygments_lexer": "ipython3",
   "version": "3.9.4"
  }
 },
 "nbformat": 4,
 "nbformat_minor": 5
}
