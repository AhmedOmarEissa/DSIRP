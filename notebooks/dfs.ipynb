{
 "cells": [
  {
   "cell_type": "markdown",
   "id": "c905f415",
   "metadata": {},
   "source": [
    "# Depth First Search"
   ]
  },
  {
   "cell_type": "markdown",
   "id": "83309c58",
   "metadata": {
    "tags": []
   },
   "source": [
    "*Data Structures and Information Retrieval in Python*\n",
    "\n",
    "Copyright 2021 Allen Downey\n",
    "\n",
    "License: [Creative Commons Attribution-NonCommercial-ShareAlike 4.0 International](https://creativecommons.org/licenses/by-nc-sa/4.0/)"
   ]
  },
  {
   "cell_type": "markdown",
   "id": "42302f03",
   "metadata": {},
   "source": [
    "[Click here to run this chapter on Colab](https://colab.research.google.com/github/AllenDowney/DSIRP/blob/main/chapters/dfs.ipynb)"
   ]
  },
  {
   "cell_type": "markdown",
   "id": "19dc5163",
   "metadata": {},
   "source": [
    "This notebook presents \"depth first search\" as a way to iterate through the nodes in a tree.\n",
    "This algorithm applies to any kind of tree, but since we need an example, we'll use BeautifulSoup, which is a Python module that reads HTML (and related languages) and builds a tree that represents the content."
   ]
  },
  {
   "cell_type": "markdown",
   "id": "82af1897",
   "metadata": {},
   "source": [
    "## Using BeautifulSoup\n",
    "\n",
    "When you download a web page, the contents are written in HyperText Markup Language, aka HTML. \n",
    "For example, here is a minimal HTML document, which I borrowed from the [BeautifulSoup documentation](https://beautiful-soup-4.readthedocs.io), but the text is from Lewis Carroll's [*Alice's Adventures in Wonderland*](https://www.gutenberg.org/files/11/11-h/11-h.htm)."
   ]
  },
  {
   "cell_type": "code",
   "execution_count": 4,
   "id": "a777d368",
   "metadata": {},
   "outputs": [],
   "source": [
    "html_doc = \"\"\"\n",
    "<html><head><title>The Dormouse's story</title></head>\n",
    "<body>\n",
    "<p class=\"title\"><b>The Dormouse's story</b></p>\n",
    "\n",
    "<p class=\"story\">Once upon a time there were three little sisters; and their names were\n",
    "<a href=\"http://example.com/elsie\" class=\"sister\" id=\"link1\">Elsie</a>,\n",
    "<a href=\"http://example.com/lacie\" class=\"sister\" id=\"link2\">Lacie</a> and\n",
    "<a href=\"http://example.com/tillie\" class=\"sister\" id=\"link3\">Tillie</a>;\n",
    "and they lived at the bottom of a well.</p>\n",
    "\n",
    "<p class=\"story\">...</p>\n",
    "\"\"\""
   ]
  },
  {
   "cell_type": "markdown",
   "id": "88220a73",
   "metadata": {},
   "source": [
    "Here's how we use BeautifulSoup to read it."
   ]
  },
  {
   "cell_type": "code",
   "execution_count": 5,
   "id": "397bda6b",
   "metadata": {
    "tags": []
   },
   "outputs": [],
   "source": []
  },
  {
   "cell_type": "markdown",
   "id": "7bcb87f0",
   "metadata": {},
   "source": [
    "The result is a `BeautifulSoup` object that represents the root of the tree.\n",
    "\n",
    "The nodes in the tree have different types, which we will get to know as we go along.\n",
    "To get started, `BeautifulSoup` object is a kind of `Tag`, which is a kind of `PageElement`, which we can learn by asking its class for its \"[method resolution order](https://www.geeksforgeeks.org/method-resolution-order-in-python-inheritance/)\"."
   ]
  },
  {
   "cell_type": "code",
   "execution_count": 6,
   "id": "6f642158",
   "metadata": {
    "tags": []
   },
   "outputs": [],
   "source": []
  },
  {
   "cell_type": "markdown",
   "id": "4306b040",
   "metadata": {},
   "source": [
    "If we display the soup, it reproduces the HTML."
   ]
  },
  {
   "cell_type": "code",
   "execution_count": 7,
   "id": "d9cd7d4a",
   "metadata": {
    "tags": []
   },
   "outputs": [],
   "source": []
  },
  {
   "cell_type": "markdown",
   "id": "6edc272a",
   "metadata": {},
   "source": [
    "`prettify` uses indentation to show the structure of the document."
   ]
  },
  {
   "cell_type": "code",
   "execution_count": 9,
   "id": "179128f7",
   "metadata": {
    "tags": []
   },
   "outputs": [],
   "source": []
  },
  {
   "cell_type": "markdown",
   "id": "3f70f913",
   "metadata": {},
   "source": [
    "BeautifulSoup provides convenient ways to navigate the soup."
   ]
  },
  {
   "cell_type": "code",
   "execution_count": 10,
   "id": "40e4fd3d",
   "metadata": {
    "tags": []
   },
   "outputs": [],
   "source": []
  },
  {
   "cell_type": "code",
   "execution_count": 11,
   "id": "b576d7db",
   "metadata": {
    "tags": []
   },
   "outputs": [],
   "source": []
  },
  {
   "cell_type": "code",
   "execution_count": 12,
   "id": "65e37ad1",
   "metadata": {
    "tags": []
   },
   "outputs": [],
   "source": []
  },
  {
   "cell_type": "code",
   "execution_count": 14,
   "id": "2e98ac95",
   "metadata": {
    "tags": []
   },
   "outputs": [],
   "source": []
  },
  {
   "cell_type": "code",
   "execution_count": 16,
   "id": "f8af7619",
   "metadata": {
    "tags": []
   },
   "outputs": [],
   "source": []
  },
  {
   "cell_type": "code",
   "execution_count": 15,
   "id": "b2108f6d",
   "metadata": {
    "tags": []
   },
   "outputs": [],
   "source": []
  },
  {
   "cell_type": "markdown",
   "id": "1bd74af3",
   "metadata": {},
   "source": [
    "`PageElement` objects have a property called `children` which returns an iterator of the `PageElement` objects it contains."
   ]
  },
  {
   "cell_type": "code",
   "execution_count": 5,
   "id": "0141df22",
   "metadata": {
    "tags": []
   },
   "outputs": [],
   "source": []
  },
  {
   "cell_type": "markdown",
   "id": "9ccafb05",
   "metadata": {},
   "source": [
    "We can use a for loop to iterate through them."
   ]
  },
  {
   "cell_type": "code",
   "execution_count": 6,
   "id": "863d7d8c",
   "metadata": {
    "tags": []
   },
   "outputs": [],
   "source": []
  },
  {
   "cell_type": "markdown",
   "id": "b6036c93",
   "metadata": {},
   "source": [
    "This soup contains only a single child, which is a `Tag`.\n",
    "`PageElement` also provides `descendants`, which iterates all of its children, their children, their children's children, and so on."
   ]
  },
  {
   "cell_type": "code",
   "execution_count": 7,
   "id": "9bcb0f15",
   "metadata": {
    "tags": []
   },
   "outputs": [],
   "source": []
  },
  {
   "cell_type": "markdown",
   "id": "26dfbfd3",
   "metadata": {},
   "source": [
    "It also provides `find`, which takes an HTML tag name and returns the first tag in the tree with the given name."
   ]
  },
  {
   "cell_type": "code",
   "execution_count": 8,
   "id": "6d83d8f0",
   "metadata": {
    "tags": []
   },
   "outputs": [],
   "source": []
  },
  {
   "cell_type": "markdown",
   "id": "68b7b64d",
   "metadata": {},
   "source": [
    "And `find_all`, which iterates should all matching tags."
   ]
  },
  {
   "cell_type": "code",
   "execution_count": 9,
   "id": "6aae480b",
   "metadata": {
    "tags": []
   },
   "outputs": [],
   "source": []
  },
  {
   "cell_type": "markdown",
   "id": "2f9b9cad",
   "metadata": {},
   "source": [
    "It's also possible to search for tags with given properties."
   ]
  },
  {
   "cell_type": "code",
   "execution_count": 10,
   "id": "e11a78d8",
   "metadata": {
    "tags": []
   },
   "outputs": [],
   "source": []
  },
  {
   "cell_type": "markdown",
   "id": "d2e65f4e",
   "metadata": {},
   "source": [
    "To find a tag with a given class, you have to use `class_`, because `class` is a Python keyword."
   ]
  },
  {
   "cell_type": "code",
   "execution_count": 11,
   "id": "c5a6fd88",
   "metadata": {
    "tags": []
   },
   "outputs": [],
   "source": []
  },
  {
   "cell_type": "markdown",
   "id": "60cd822d",
   "metadata": {},
   "source": [
    "The following cells use the tools we have so far to explore the soup."
   ]
  },
  {
   "cell_type": "code",
   "execution_count": 12,
   "id": "9860d35c",
   "metadata": {
    "tags": []
   },
   "outputs": [],
   "source": []
  },
  {
   "cell_type": "code",
   "execution_count": 13,
   "id": "9cc4c70d",
   "metadata": {
    "tags": []
   },
   "outputs": [],
   "source": []
  },
  {
   "cell_type": "code",
   "execution_count": 14,
   "id": "6d73e622",
   "metadata": {
    "tags": []
   },
   "outputs": [],
   "source": []
  },
  {
   "cell_type": "code",
   "execution_count": 15,
   "id": "b950fa3c",
   "metadata": {
    "tags": []
   },
   "outputs": [],
   "source": []
  },
  {
   "cell_type": "code",
   "execution_count": 16,
   "id": "1f64d3bd",
   "metadata": {
    "tags": []
   },
   "outputs": [],
   "source": []
  },
  {
   "cell_type": "code",
   "execution_count": 2,
   "id": "099c0497",
   "metadata": {
    "tags": []
   },
   "outputs": [],
   "source": []
  },
  {
   "cell_type": "code",
   "execution_count": 18,
   "id": "2896c8ad",
   "metadata": {
    "tags": []
   },
   "outputs": [],
   "source": []
  },
  {
   "cell_type": "markdown",
   "id": "a0565bab",
   "metadata": {},
   "source": [
    "## Depth-first search\n",
    "\n",
    "In the previous section, we found all of the paragraphs, iterated their children, and printed the `NavigableStrings` we found, but we did not get all of the text, because some of it is embedded in children of children, and so on.\n",
    "\n",
    "To get all of the text, we'll use a \"depth-first search\", or DFS.\n",
    "DFS starts at the root of the tree and selects the first child. If the\n",
    "child has children, it selects the first child again. When it gets to a\n",
    "node with no children, it backtracks, moving up the tree to the parent\n",
    "node, where it selects the next child if there is one; otherwise it\n",
    "backtracks again. When it has explored the last child of the root, it's\n",
    "done.\n",
    "\n",
    "There are two common ways to implement DFS, recursively and iteratively.\n",
    "The recursive implementation is simple and elegant:"
   ]
  },
  {
   "cell_type": "code",
   "execution_count": 19,
   "id": "6b3ebd50",
   "metadata": {
    "tags": []
   },
   "outputs": [],
   "source": []
  },
  {
   "cell_type": "code",
   "execution_count": 20,
   "id": "be3f2553",
   "metadata": {
    "tags": []
   },
   "outputs": [],
   "source": []
  },
  {
   "cell_type": "markdown",
   "id": "8bf2a76e",
   "metadata": {},
   "source": [
    "Here is an iterative version of DFS that uses a list to represent a stack of elements:"
   ]
  },
  {
   "cell_type": "code",
   "execution_count": 21,
   "id": "8a2a2329",
   "metadata": {
    "tags": []
   },
   "outputs": [],
   "source": []
  },
  {
   "cell_type": "markdown",
   "id": "13fc8784",
   "metadata": {},
   "source": [
    "The parameter, `root`, is the root of the tree we want to traverse, so\n",
    "we start by creating the stack and pushing the root onto it.\n",
    "\n",
    "The loop continues until the stack is empty. Each time through, it pops\n",
    "a `PageElement` off the stack. If it gets a `NavigableString`, it prints the contents.\n",
    "Then it pushes the children onto the stack. In order to process the\n",
    "children in the right order, we have to push them onto the stack in\n",
    "reverse order.\n"
   ]
  },
  {
   "cell_type": "code",
   "execution_count": 22,
   "id": "6c6dc39d",
   "metadata": {
    "tags": []
   },
   "outputs": [],
   "source": []
  },
  {
   "cell_type": "markdown",
   "id": "bbe16ef6",
   "metadata": {},
   "source": [
    "**Exercise:** Write a function similar to `PageElement.find` that takes a `PageElement` and a tag name and returns the first tag with the given name. You can write it iteratively or recursively.\n",
    "\n",
    "Here's how to check whether a `PageElement` is a `Tag`.\n",
    "\n",
    "```\n",
    "from bs4 import Tag\n",
    "isinstance(element, Tag)\n",
    "```"
   ]
  },
  {
   "cell_type": "code",
   "execution_count": 34,
   "id": "395250e2",
   "metadata": {},
   "outputs": [],
   "source": []
  },
  {
   "cell_type": "code",
   "execution_count": 24,
   "id": "2129fc36",
   "metadata": {},
   "outputs": [],
   "source": []
  },
  {
   "cell_type": "code",
   "execution_count": 25,
   "id": "4692e57d",
   "metadata": {},
   "outputs": [],
   "source": []
  },
  {
   "cell_type": "code",
   "execution_count": 35,
   "id": "22c8e0a9",
   "metadata": {},
   "outputs": [],
   "source": []
  },
  {
   "cell_type": "markdown",
   "id": "b0b935a4",
   "metadata": {},
   "source": [
    "**Exercise:** Write a generator function similar to `PageElement.find_all` that takes a `PageElement` and a tag name and yields all tags with the given name. You can write it iteratively or recursively."
   ]
  },
  {
   "cell_type": "code",
   "execution_count": 27,
   "id": "e7694762",
   "metadata": {},
   "outputs": [],
   "source": []
  },
  {
   "cell_type": "code",
   "execution_count": 28,
   "id": "99c31d24",
   "metadata": {},
   "outputs": [],
   "source": []
  },
  {
   "cell_type": "code",
   "execution_count": 29,
   "id": "c2ca2c7e",
   "metadata": {},
   "outputs": [],
   "source": []
  },
  {
   "cell_type": "code",
   "execution_count": 30,
   "id": "689a7e73",
   "metadata": {},
   "outputs": [],
   "source": []
  },
  {
   "cell_type": "code",
   "execution_count": 31,
   "id": "ed2e86d7",
   "metadata": {},
   "outputs": [],
   "source": []
  },
  {
   "cell_type": "code",
   "execution_count": null,
   "id": "31ac4139",
   "metadata": {},
   "outputs": [],
   "source": []
  },
  {
   "cell_type": "code",
   "execution_count": null,
   "id": "8189929b",
   "metadata": {},
   "outputs": [],
   "source": []
  }
 ],
 "metadata": {
  "celltoolbar": "Tags",
  "kernelspec": {
   "display_name": "Python 3",
   "language": "python",
   "name": "python3"
  },
  "language_info": {
   "codemirror_mode": {
    "name": "ipython",
    "version": 3
   },
   "file_extension": ".py",
   "mimetype": "text/x-python",
   "name": "python",
   "nbconvert_exporter": "python",
   "pygments_lexer": "ipython3",
   "version": "3.9.4"
  }
 },
 "nbformat": 4,
 "nbformat_minor": 5
}
