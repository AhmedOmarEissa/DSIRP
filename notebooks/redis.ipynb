{
 "cells": [
  {
   "cell_type": "markdown",
   "id": "aa5e8813",
   "metadata": {},
   "source": [
    "# Redis"
   ]
  },
  {
   "cell_type": "markdown",
   "id": "cd8f78b0",
   "metadata": {
    "tags": []
   },
   "source": [
    "*Data Structures and Information Retrieval in Python*\n",
    "\n",
    "Copyright 2021 Allen Downey\n",
    "\n",
    "License: [Creative Commons Attribution-NonCommercial-ShareAlike 4.0 International](https://creativecommons.org/licenses/by-nc-sa/4.0/)"
   ]
  },
  {
   "cell_type": "code",
   "execution_count": 1,
   "id": "23dd7f0c",
   "metadata": {
    "tags": []
   },
   "outputs": [],
   "source": [
    "from os.path import basename, exists\n",
    "\n",
    "def download(url):\n",
    "    filename = basename(url)\n",
    "    if not exists(filename):\n",
    "        from urllib.request import urlretrieve\n",
    "        local, _ = urlretrieve(url, filename)\n",
    "        print('Downloaded ' + local)\n",
    "    \n",
    "# download('https://github.com/AllenDowney/DSIRP/raw/main/utils.py')"
   ]
  },
  {
   "cell_type": "markdown",
   "id": "dc6addc3",
   "metadata": {},
   "source": [
    "[Click here to run this chapter on Colab](https://colab.research.google.com/github/AllenDowney/DSIRP/blob/main/chapters/chap01.ipynb)"
   ]
  },
  {
   "cell_type": "markdown",
   "id": "d87322f9",
   "metadata": {},
   "source": [
    "## Persistence\n",
    "\n",
    "Data stored only in the memory of a running program is called \"volatile\", because it disappears when the program ends.\n",
    "\n",
    "Data that still exists after the program that created it ends is called\n",
    "\"persistent\". In general, files stored in a file system are persistent,\n",
    "as well as data stored in databases.\n",
    "\n",
    "A simple way to make data persistent is to store it in a file. For example, before the program ends, it could translate its data structures into a format like [JSON](https://en.wikipedia.org/wiki/JSON) and then write them into a file.\n",
    "When it starts again, it could read the file and rebuild the data\n",
    "structures."
   ]
  },
  {
   "cell_type": "markdown",
   "id": "51a08837",
   "metadata": {},
   "source": [
    "But there are several problems with this solution:\n",
    "\n",
    "1.  Reading and writing large data structures (like a Web index) would\n",
    "    be slow.\n",
    "\n",
    "2.  The entire data structure might not fit into the memory of a single\n",
    "    running program.\n",
    "\n",
    "3.  If a program ends unexpectedly (for example, due to a power outage),\n",
    "    any changes made since the program last started would be lost.\n",
    "\n",
    "A better alternative is a database that provides persistent storage and\n",
    "the ability to read and write parts of the database without reading and\n",
    "writing the whole thing."
   ]
  },
  {
   "cell_type": "markdown",
   "id": "cc6e276f",
   "metadata": {},
   "source": [
    "There are many kinds of [database management systems](https://en.wikipedia.org/wiki/Database) (DBMS) that provide\n",
    "these capabilities.\n",
    "\n",
    "The database we'll use is Redis, which organizes data in structures that are similar to Python data structures.\n",
    "Among others, it provides lists, hashes (similar to Python dictionaries), and sets.\n",
    "\n",
    "Redis is a \"key-value database\", which means that it represents a mapping from keys to values.\n",
    "In Redis, the keys are strings and the values can be one of several types."
   ]
  },
  {
   "cell_type": "markdown",
   "id": "125315e1",
   "metadata": {},
   "source": [
    "## Redis clients and servers\n",
    "\n",
    "Redis is usually run as a remote service; in fact, the name stands for\n",
    "\"REmote DIctionary Server\". To use Redis, you have to run the Redis\n",
    "server somewhere and then connect to it using a Redis client. \n",
    "\n",
    "To get started, we'll run the Redis server on the same machine where we run the Jupyter server.\n",
    "This will let us get started quickly, but if we are running Jupyter on Colab, the database lives in a Colab runtime environment, which disappears when we shut down the notebook.\n",
    "So it's not really persistent.\n",
    "\n",
    "Later we will use [RedisToGo](http://thinkdast.com/redistogo), which runs Redis in the cloud.\n",
    "Databases on RedisToGo are persistent.\n",
    "\n",
    "The following cell installs the Redis server and starts it with the `daemonize` options, which runs it in the background so the Jupyter server can resume."
   ]
  },
  {
   "cell_type": "code",
   "execution_count": 2,
   "id": "65a2e02f",
   "metadata": {},
   "outputs": [],
   "source": [
    "import sys\n",
    "\n",
    "IN_COLAB = 'google.colab' in sys.modules\n",
    "\n",
    "if IN_COLAB:\n",
    "    !pip install redis-server\n",
    "    !/usr/local/lib/python*/dist-packages/redis_server/bin/redis-server --daemonize yes\n",
    "else:\n",
    "    !redis-server --daemonize yes"
   ]
  },
  {
   "cell_type": "markdown",
   "id": "8b1f6ec0",
   "metadata": {},
   "source": [
    "## redis-py\n",
    "\n",
    "To talk to the Redis server, we'll use [redis-py](https://redis-py.readthedocs.io/en/stable/index.html).\n",
    "Here's how we use it to connect to the Redis server."
   ]
  },
  {
   "cell_type": "code",
   "execution_count": 3,
   "id": "20545149",
   "metadata": {},
   "outputs": [],
   "source": [
    "try:\n",
    "    import redis\n",
    "except ImportError:\n",
    "    !pip install redis-server\n",
    "    !pip install redis"
   ]
  },
  {
   "cell_type": "code",
   "execution_count": 4,
   "id": "3f57e1b8-91f2-4426-ada4-e7bcb1f4ce9a",
   "metadata": {
    "tags": []
   },
   "outputs": [],
   "source": []
  },
  {
   "cell_type": "markdown",
   "id": "f7fb6f1d",
   "metadata": {},
   "source": [
    "The `set` method adds a key-value pair to the databased.\n",
    "In the following example, the key and value are both strings."
   ]
  },
  {
   "cell_type": "code",
   "execution_count": 5,
   "id": "944873d1",
   "metadata": {
    "tags": []
   },
   "outputs": [],
   "source": []
  },
  {
   "cell_type": "markdown",
   "id": "38f30654",
   "metadata": {},
   "source": [
    "The `get` method looks up a key and returns the corresponding value."
   ]
  },
  {
   "cell_type": "code",
   "execution_count": 6,
   "id": "1609ae5f",
   "metadata": {
    "tags": []
   },
   "outputs": [],
   "source": []
  },
  {
   "cell_type": "markdown",
   "id": "0b7e0e4b",
   "metadata": {},
   "source": [
    "The result is not actually a string; it is a [bytearray](https://stackoverflow.com/questions/6224052/what-is-the-difference-between-a-string-and-a-byte-string).\n",
    "\n",
    "For many purposes, a bytearray behaves like a string so for now we will treat it like a string and deal with differences as they arise."
   ]
  },
  {
   "cell_type": "markdown",
   "id": "2cc5f6d5",
   "metadata": {},
   "source": [
    "The values can be integers or floating-point numbers."
   ]
  },
  {
   "cell_type": "code",
   "execution_count": 7,
   "id": "0bec0d82",
   "metadata": {
    "tags": []
   },
   "outputs": [],
   "source": []
  },
  {
   "cell_type": "markdown",
   "id": "a96ccb4c",
   "metadata": {},
   "source": [
    "And Redis provides some functions that understand numbers, like `incr`."
   ]
  },
  {
   "cell_type": "code",
   "execution_count": 8,
   "id": "14fdec07",
   "metadata": {
    "tags": []
   },
   "outputs": [],
   "source": []
  },
  {
   "cell_type": "markdown",
   "id": "c56b1490",
   "metadata": {},
   "source": [
    "But if you `get` a numeric value, the result is a bytearray."
   ]
  },
  {
   "cell_type": "code",
   "execution_count": 9,
   "id": "dcc5cf84",
   "metadata": {
    "tags": []
   },
   "outputs": [],
   "source": []
  },
  {
   "cell_type": "markdown",
   "id": "5b460a94",
   "metadata": {},
   "source": [
    "If you want to do math with it, you have to convert it back to a number."
   ]
  },
  {
   "cell_type": "code",
   "execution_count": 10,
   "id": "34caf899",
   "metadata": {
    "tags": []
   },
   "outputs": [],
   "source": []
  },
  {
   "cell_type": "markdown",
   "id": "9a6e7d92",
   "metadata": {},
   "source": [
    "If you want to set more than one value at a time, you can pass a dictionary to `mset`."
   ]
  },
  {
   "cell_type": "code",
   "execution_count": 11,
   "id": "c16bae89-5dab-490e-9fbe-28d963cd19ab",
   "metadata": {
    "tags": []
   },
   "outputs": [],
   "source": []
  },
  {
   "cell_type": "code",
   "execution_count": 12,
   "id": "b9b3092c-a26e-4e61-b499-64c1cd5f3a20",
   "metadata": {
    "tags": []
   },
   "outputs": [],
   "source": []
  },
  {
   "cell_type": "code",
   "execution_count": 13,
   "id": "a5c6e1e2",
   "metadata": {
    "tags": []
   },
   "outputs": [],
   "source": []
  },
  {
   "cell_type": "markdown",
   "id": "4663dff6",
   "metadata": {},
   "source": [
    "If you try to store any other type in a Redis database, you get an error."
   ]
  },
  {
   "cell_type": "code",
   "execution_count": 14,
   "id": "7a0aace4",
   "metadata": {
    "tags": []
   },
   "outputs": [],
   "source": []
  },
  {
   "cell_type": "markdown",
   "id": "d099d578",
   "metadata": {},
   "source": [
    "We could use the `repr` function to create a string representation of a list, but that representation is Python-specific.\n",
    "It would be better to make a database that can work with any language.\n",
    "To do that, we can use JSON to create a string representation.\n",
    "\n",
    "The `json` module provides a function `dumps`, that creates a language-independent representation of most Python objects."
   ]
  },
  {
   "cell_type": "code",
   "execution_count": 15,
   "id": "11826ad2",
   "metadata": {
    "jupyter": {
     "source_hidden": true
    },
    "tags": []
   },
   "outputs": [],
   "source": []
  },
  {
   "cell_type": "markdown",
   "id": "87c3b531",
   "metadata": {},
   "source": [
    "When we read one of these strings back, we can use `loads` to convert it back to a Python object."
   ]
  },
  {
   "cell_type": "code",
   "execution_count": 16,
   "id": "d6b11849",
   "metadata": {
    "tags": []
   },
   "outputs": [],
   "source": []
  },
  {
   "cell_type": "markdown",
   "id": "173e92fb",
   "metadata": {},
   "source": [
    "**Exercise:** Create a dictionary with a few items, including keys and values with different types. Use `json` to make a string representation of the dictionary, then store it as a value in the Redis databased. Retrieve it and convert it back to a dictionary."
   ]
  },
  {
   "cell_type": "code",
   "execution_count": 17,
   "id": "70357a58",
   "metadata": {},
   "outputs": [],
   "source": []
  },
  {
   "cell_type": "code",
   "execution_count": 18,
   "id": "e68fe8d9",
   "metadata": {},
   "outputs": [],
   "source": []
  },
  {
   "cell_type": "markdown",
   "id": "fb138840",
   "metadata": {},
   "source": [
    "## Redis Data Types\n",
    "\n",
    "JSON can represent most Python objects, so we could use it to store arbitrary data structures in Redis. But in that case Redis only knows that they are strings; it can't work with them as data structures. For example, if we store a data structure in JSON, the only way to modify it would be to:\n",
    "\n",
    "1. Get the entire structure, which might be large,\n",
    "\n",
    "2. Load it back into a Python structure,\n",
    "\n",
    "3. Modify the Python structure,\n",
    "\n",
    "4. Dump it back into a JSON string, and\n",
    "\n",
    "5. Replace the old value in the database with the new value.\n",
    "\n",
    "That's not very efficient. A better alternative is to use the data types Redis provides, which you can read about in the\n",
    "[Redis Data Types Intro](https://redis.io/topics/data-types-intro)."
   ]
  },
  {
   "cell_type": "markdown",
   "id": "5f79e4c8-15cf-40be-a357-5a854a3cf72b",
   "metadata": {},
   "source": [
    "# Lists\n",
    "\n",
    "The `rpush` method adds new elements to the end of a list (the `r` indicates the right-hand side of the list)."
   ]
  },
  {
   "cell_type": "code",
   "execution_count": 19,
   "id": "471c9f20",
   "metadata": {
    "tags": []
   },
   "outputs": [],
   "source": []
  },
  {
   "cell_type": "markdown",
   "id": "0258de3c",
   "metadata": {},
   "source": [
    "You don't have to do anything special to create a list; if it doesn't exist, Redis creates it.\n",
    "\n",
    "`llen` returns the length of the list."
   ]
  },
  {
   "cell_type": "code",
   "execution_count": 20,
   "id": "19887235",
   "metadata": {
    "tags": []
   },
   "outputs": [],
   "source": []
  },
  {
   "cell_type": "markdown",
   "id": "395bfc1e",
   "metadata": {},
   "source": [
    "`lrange` gets elements from a list. With the indices `0` and `-1`, it gets all of the elements."
   ]
  },
  {
   "cell_type": "code",
   "execution_count": 21,
   "id": "6cd589d8",
   "metadata": {
    "tags": []
   },
   "outputs": [],
   "source": []
  },
  {
   "cell_type": "markdown",
   "id": "d2dbb13a",
   "metadata": {},
   "source": [
    "The result is a Python list, but the elements are bytestrings.\n",
    "\n",
    "`rpop` removes elements from the end of the list."
   ]
  },
  {
   "cell_type": "code",
   "execution_count": 22,
   "id": "2d7ccb5b",
   "metadata": {
    "tags": []
   },
   "outputs": [],
   "source": []
  },
  {
   "cell_type": "markdown",
   "id": "2d61ca12",
   "metadata": {},
   "source": [
    "You can read more about the other list methods in the [Redis documentation](https://redis.io/commands#list).\n",
    "\n",
    "And you can read about the [redis-py API here](https://redis-py.readthedocs.io/en/stable/index.html#redis.Redis.rpush).\n",
    "\n",
    "In general, the documentation of Redis is very good; the documentation of `redis-py` is a little rough around the edges."
   ]
  },
  {
   "cell_type": "markdown",
   "id": "b9b9faae",
   "metadata": {},
   "source": [
    "**Exercise:** Use `lpush` to add elements to the beginning of the list and `lpop` to remove them.\n",
    "\n",
    "Note: Redis lists behave like linked lists, so you can add and remove elements from either end in constant time."
   ]
  },
  {
   "cell_type": "code",
   "execution_count": 23,
   "id": "ebe3d143",
   "metadata": {
    "tags": []
   },
   "outputs": [],
   "source": []
  },
  {
   "cell_type": "code",
   "execution_count": 24,
   "id": "9d60d7b4",
   "metadata": {
    "tags": []
   },
   "outputs": [],
   "source": []
  },
  {
   "cell_type": "markdown",
   "id": "e89c17ac",
   "metadata": {},
   "source": [
    "## Hash\n",
    "\n",
    "A [Redis hash](https://redis.io/commands#hash) is similar to a Python dictionary, but just to make things confusing the nomenclature is a little different.\n",
    "\n",
    "What we would call a \"key\" in a Python dictionary is called a \"field\" in a Redis hash.\n",
    "\n",
    "The `hset` method sets a field-value pair in a hash:"
   ]
  },
  {
   "cell_type": "code",
   "execution_count": 25,
   "id": "7761f677",
   "metadata": {
    "tags": []
   },
   "outputs": [],
   "source": []
  },
  {
   "cell_type": "markdown",
   "id": "b35cdd0e",
   "metadata": {},
   "source": [
    "The `hget` method looks up a field and returns the corresponding value."
   ]
  },
  {
   "cell_type": "code",
   "execution_count": 26,
   "id": "30b117f3",
   "metadata": {
    "tags": []
   },
   "outputs": [],
   "source": []
  },
  {
   "cell_type": "markdown",
   "id": "a32bf4da",
   "metadata": {},
   "source": [
    "`hset` can also take a Python dictionary as a parameter:"
   ]
  },
  {
   "cell_type": "code",
   "execution_count": 27,
   "id": "7fddb7df",
   "metadata": {
    "tags": []
   },
   "outputs": [],
   "source": []
  },
  {
   "cell_type": "markdown",
   "id": "2c4cb22e",
   "metadata": {},
   "source": [
    "To iterate the elements of a hash, we can use `hscan_iter`:"
   ]
  },
  {
   "cell_type": "code",
   "execution_count": 28,
   "id": "3d8c718c",
   "metadata": {
    "tags": []
   },
   "outputs": [],
   "source": []
  },
  {
   "cell_type": "markdown",
   "id": "9af5b0bf",
   "metadata": {},
   "source": [
    "The results are bytestrings for both the fields and values."
   ]
  },
  {
   "cell_type": "markdown",
   "id": "5e7074d3",
   "metadata": {},
   "source": [
    "**Exercise:** To add multiple items to a hash, you can use `hset` with the keyword `mapping` and a dictionary (or other mapping type).\n",
    "\n",
    "Use the `Counter` object from the `collections` module to count the letters in a string, then use `hset` to store the results in a Redis hash.\n",
    "\n",
    "Then use `hscan_iter` to display the results."
   ]
  },
  {
   "cell_type": "code",
   "execution_count": 29,
   "id": "3bf00102",
   "metadata": {},
   "outputs": [],
   "source": []
  },
  {
   "cell_type": "code",
   "execution_count": 30,
   "id": "05c42aa7",
   "metadata": {},
   "outputs": [],
   "source": []
  },
  {
   "cell_type": "markdown",
   "id": "6cdcca0c",
   "metadata": {},
   "source": [
    "## Deleting\n",
    "\n",
    "Before we go on, let's clean up the database by deleting all of the key-value pairs."
   ]
  },
  {
   "cell_type": "code",
   "execution_count": 31,
   "id": "3b96060a-de5e-4ba6-baa9-bb2646d84d5e",
   "metadata": {
    "tags": []
   },
   "outputs": [],
   "source": []
  },
  {
   "cell_type": "markdown",
   "id": "2f7a3a07-471c-4e8a-bb35-b61cfc4ce404",
   "metadata": {},
   "source": [
    "## Anagrams (again!)\n",
    "\n",
    "In a previous notebook, we made sets of words that are anagrams of each other by building a dictionary where they keys are sorted strings of letters and the values are lists of words.\n",
    "\n",
    "We'll start by solving this problem again using Python data structures; then we'll translate it into Redis.\n",
    "\n",
    "The following cell downloads a file that contains the list of words."
   ]
  },
  {
   "cell_type": "code",
   "execution_count": 32,
   "id": "901814e8-fb97-4297-973f-bf1111962ce4",
   "metadata": {},
   "outputs": [],
   "source": [
    "from os.path import basename, exists\n",
    "\n",
    "def download(url):\n",
    "    filename = basename(url)\n",
    "    if not exists(filename):\n",
    "        from urllib.request import urlretrieve\n",
    "        local, _ = urlretrieve(url, filename)\n",
    "        print('Downloaded ' + local)\n",
    "    \n",
    "download('https://github.com/AllenDowney/DSIRP/raw/main/american-english')"
   ]
  },
  {
   "cell_type": "markdown",
   "id": "391ab929",
   "metadata": {},
   "source": [
    "And here's a generator function that reads the words in the file and yields them one at a time."
   ]
  },
  {
   "cell_type": "code",
   "execution_count": 33,
   "id": "0dc6f19d-b19d-449b-9c7a-61a4597eb1a5",
   "metadata": {},
   "outputs": [],
   "source": [
    "def iterate_words(filename):\n",
    "    \"\"\"Read lines from a file and split them into words.\"\"\"\n",
    "    for line in open(filename):\n",
    "        for word in line.split():\n",
    "            yield word.strip()"
   ]
  },
  {
   "cell_type": "markdown",
   "id": "5b6e41f7",
   "metadata": {},
   "source": [
    "The \"signature\" of a word is a string that contains the letter of the word in sorted order.\n",
    "So if two words are anagrams, they have the same signature."
   ]
  },
  {
   "cell_type": "code",
   "execution_count": 34,
   "id": "4c869613",
   "metadata": {},
   "outputs": [],
   "source": [
    "def signature(word):\n",
    "    return ''.join(sorted(word))"
   ]
  },
  {
   "cell_type": "markdown",
   "id": "4a849067",
   "metadata": {},
   "source": [
    "The following loop makes a dictionary of anagram lists."
   ]
  },
  {
   "cell_type": "code",
   "execution_count": 35,
   "id": "97fd40cf-d277-4f5d-ab47-60414181ec15",
   "metadata": {},
   "outputs": [],
   "source": [
    "anagram_dict = {}\n",
    "for word in iterate_words('american-english'):\n",
    "    key = signature(word)\n",
    "    anagram_dict.setdefault(key, []).append(word)"
   ]
  },
  {
   "cell_type": "markdown",
   "id": "62b8f193",
   "metadata": {},
   "source": [
    "The following loop prints all anagram lists with 6 or more words"
   ]
  },
  {
   "cell_type": "code",
   "execution_count": 36,
   "id": "46255a02-1d46-4026-ac45-4ac0a7b5728c",
   "metadata": {},
   "outputs": [],
   "source": [
    "for v in anagram_dict.values():\n",
    "    if len(v) >= 6:\n",
    "        print(len(v), v)"
   ]
  },
  {
   "cell_type": "markdown",
   "id": "3a1b9757",
   "metadata": {},
   "source": [
    "Now, to do the same thing in Redis, we have two options:\n",
    "\n",
    "* We can store the anagram lists using Redis lists, using the signatures as keys.\n",
    "\n",
    "* We can store the whole data structure in a Redis hash.\n",
    "\n",
    "A problem with the first option is that the keys in a Redis database are like global variables. If we create a large number of keys, we are likely to run into name conflicts.\n",
    "We can mitigate this problem by giving each key a prefix that identifies its purpose.\n",
    "\n",
    "The following loop implements the first option, using \"Anagram\" as a prefix for the keys."
   ]
  },
  {
   "cell_type": "code",
   "execution_count": 37,
   "id": "d8486f47-9a07-45f7-ba7c-26dfcfa26bca",
   "metadata": {
    "tags": []
   },
   "outputs": [],
   "source": []
  },
  {
   "cell_type": "markdown",
   "id": "fa1d6490",
   "metadata": {},
   "source": [
    "An advantage of this option is that it makes good use of Redis lists. A drawback is that makes many small database transactions, so it is relatively slow. \n",
    "\n",
    "We can use `keys` to get a list of all keys with a given prefix."
   ]
  },
  {
   "cell_type": "code",
   "execution_count": 38,
   "id": "742676c5-e432-4029-9717-5dfebcdac346",
   "metadata": {
    "tags": []
   },
   "outputs": [],
   "source": []
  },
  {
   "cell_type": "markdown",
   "id": "ba2c59a4",
   "metadata": {},
   "source": [
    "**Exercise:** Write a loop that iterates through `keys`, uses `llen` to get the length of each list, and prints the elements of all lists with 6 or more elements."
   ]
  },
  {
   "cell_type": "code",
   "execution_count": 39,
   "id": "66183e66-e68c-4c00-8a60-cec3f0210774",
   "metadata": {},
   "outputs": [],
   "source": []
  },
  {
   "cell_type": "markdown",
   "id": "3dc349e5",
   "metadata": {},
   "source": [
    "Before we go on, we can delete the keys from the database like this."
   ]
  },
  {
   "cell_type": "code",
   "execution_count": 40,
   "id": "e51fc057",
   "metadata": {
    "tags": []
   },
   "outputs": [],
   "source": []
  },
  {
   "cell_type": "markdown",
   "id": "684ec682",
   "metadata": {},
   "source": [
    "The second option is to compute the dictionary of anagram lists locally and then store it as a Redis hash.\n",
    "\n",
    "The following function uses `dumps` to convert lists to strings that can be stored as values in a Redis hash."
   ]
  },
  {
   "cell_type": "code",
   "execution_count": 41,
   "id": "eb099968-6f26-4546-b2dd-c81ac966720c",
   "metadata": {
    "jupyter": {
     "source_hidden": true
    },
    "tags": []
   },
   "outputs": [],
   "source": []
  },
  {
   "cell_type": "markdown",
   "id": "06f7c189",
   "metadata": {},
   "source": [
    "We can do the same thing faster if we convert all of the lists to JSON locally and store all of the field-value pairs with one `hset` command.\n",
    "\n",
    "First, I'll delete the hash we just created."
   ]
  },
  {
   "cell_type": "code",
   "execution_count": 42,
   "id": "4a87b6aa",
   "metadata": {
    "tags": []
   },
   "outputs": [],
   "source": []
  },
  {
   "cell_type": "markdown",
   "id": "a939799a",
   "metadata": {},
   "source": [
    "**Exercise:** Make a Python dictionary that contains the items from `anagram_dict` but with the values converted to JSON. Use `hset` with the `mapping` keyword to store it as a Redis hash."
   ]
  },
  {
   "cell_type": "code",
   "execution_count": 43,
   "id": "9ef5ba5f",
   "metadata": {},
   "outputs": [],
   "source": []
  },
  {
   "cell_type": "markdown",
   "id": "1c33b276",
   "metadata": {},
   "source": [
    "**Exercise:** Write a loop that iterates through the field-value pairs, converts each value back to a Python list, and prints the lists with 6 or more elements."
   ]
  },
  {
   "cell_type": "code",
   "execution_count": 44,
   "id": "98d48b9f",
   "metadata": {},
   "outputs": [],
   "source": []
  },
  {
   "cell_type": "markdown",
   "id": "fe12761f",
   "metadata": {},
   "source": [
    "## Shut down\n",
    "\n",
    "If you are running this notebook on your own computer, you can use the following command to shut down the Redis server.\n",
    "\n",
    "If you are running on Colab, it's not really necessary: the Redis server will get shut down when the Colab runtime shuts down (and everything stored in it will disappear)."
   ]
  },
  {
   "cell_type": "code",
   "execution_count": 45,
   "id": "d6b445e1",
   "metadata": {},
   "outputs": [],
   "source": [
    "!killall redis-server"
   ]
  }
 ],
 "metadata": {
  "celltoolbar": "Tags",
  "kernelspec": {
   "display_name": "Python 3",
   "language": "python",
   "name": "python3"
  },
  "language_info": {
   "codemirror_mode": {
    "name": "ipython",
    "version": 3
   },
   "file_extension": ".py",
   "mimetype": "text/x-python",
   "name": "python",
   "nbconvert_exporter": "python",
   "pygments_lexer": "ipython3",
   "version": "3.9.4"
  }
 },
 "nbformat": 4,
 "nbformat_minor": 5
}
